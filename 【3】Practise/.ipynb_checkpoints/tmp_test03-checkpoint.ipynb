{
 "cells": [
  {
   "cell_type": "code",
   "execution_count": 10,
   "metadata": {},
   "outputs": [],
   "source": [
    "import pandas as pd\n",
    "import numpy as np\n",
    "import jieba\n",
    "import jieba.analyse\n",
    "from sklearn.feature_extraction.text import CountVectorizer  \n",
    "from sklearn.feature_extraction.text import TfidfTransformer\n",
    "from sklearn.model_selection import train_test_split"
   ]
  },
  {
   "cell_type": "code",
   "execution_count": 27,
   "metadata": {},
   "outputs": [
    {
     "data": {
      "text/html": [
       "<div>\n",
       "<style scoped>\n",
       "    .dataframe tbody tr th:only-of-type {\n",
       "        vertical-align: middle;\n",
       "    }\n",
       "\n",
       "    .dataframe tbody tr th {\n",
       "        vertical-align: top;\n",
       "    }\n",
       "\n",
       "    .dataframe thead th {\n",
       "        text-align: right;\n",
       "    }\n",
       "</style>\n",
       "<table border=\"1\" class=\"dataframe\">\n",
       "  <thead>\n",
       "    <tr style=\"text-align: right;\">\n",
       "      <th></th>\n",
       "      <th>REMARK</th>\n",
       "      <th>tag</th>\n",
       "      <th>flag</th>\n",
       "    </tr>\n",
       "  </thead>\n",
       "  <tbody>\n",
       "    <tr>\n",
       "      <th>0</th>\n",
       "      <td>交易失败卡余额不足请换卡交易</td>\n",
       "      <td>余额不足</td>\n",
       "      <td>1</td>\n",
       "    </tr>\n",
       "    <tr>\n",
       "      <th>1</th>\n",
       "      <td>账户余额不足</td>\n",
       "      <td>余额不足</td>\n",
       "      <td>1</td>\n",
       "    </tr>\n",
       "    <tr>\n",
       "      <th>2</th>\n",
       "      <td>代扣失败卡上的余额不足</td>\n",
       "      <td>余额不足</td>\n",
       "      <td>1</td>\n",
       "    </tr>\n",
       "    <tr>\n",
       "      <th>3</th>\n",
       "      <td>单卡单日余额不足次数超限</td>\n",
       "      <td>余额不足</td>\n",
       "      <td>1</td>\n",
       "    </tr>\n",
       "    <tr>\n",
       "      <th>4</th>\n",
       "      <td>收单成功银行卡余额不足</td>\n",
       "      <td>余额不足</td>\n",
       "      <td>1</td>\n",
       "    </tr>\n",
       "  </tbody>\n",
       "</table>\n",
       "</div>"
      ],
      "text/plain": [
       "           REMARK   tag  flag\n",
       "0  交易失败卡余额不足请换卡交易  余额不足     1\n",
       "1          账户余额不足  余额不足     1\n",
       "2     代扣失败卡上的余额不足  余额不足     1\n",
       "3    单卡单日余额不足次数超限  余额不足     1\n",
       "4     收单成功银行卡余额不足  余额不足     1"
      ]
     },
     "execution_count": 27,
     "metadata": {},
     "output_type": "execute_result"
    },
    {
     "data": {
      "text/plain": [
       "0    True\n",
       "1    True\n",
       "2    True\n",
       "3    True\n",
       "4    True\n",
       "Name: flag, dtype: bool"
      ]
     },
     "execution_count": 27,
     "metadata": {},
     "output_type": "execute_result"
    },
    {
     "data": {
      "text/plain": [
       "['交易 失败 卡 余额 不足 请 换卡 交易',\n",
       " '账户 余额 不足',\n",
       " '代扣 失败 卡上 余额 不足',\n",
       " '单卡 单日 余额 不足 次数 超限',\n",
       " '收单 成功 银行卡 余额 不足']"
      ]
     },
     "execution_count": 27,
     "metadata": {},
     "output_type": "execute_result"
    },
    {
     "data": {
      "text/plain": [
       "matrix([[1, 2, 0, 1, 0, 0, 0, 1, 0, 1, 0, 0, 0, 0, 0],\n",
       "        [1, 0, 0, 1, 0, 0, 0, 0, 0, 0, 0, 0, 1, 0, 0],\n",
       "        [1, 0, 1, 1, 0, 0, 1, 1, 0, 0, 0, 0, 0, 0, 0],\n",
       "        [1, 0, 0, 1, 1, 1, 0, 0, 0, 0, 0, 1, 0, 1, 0],\n",
       "        [1, 0, 0, 1, 0, 0, 0, 0, 1, 0, 1, 0, 0, 0, 1]], dtype=int64)"
      ]
     },
     "execution_count": 27,
     "metadata": {},
     "output_type": "execute_result"
    },
    {
     "data": {
      "text/plain": [
       "{'不足': 0,\n",
       " '交易': 1,\n",
       " '代扣': 2,\n",
       " '余额': 3,\n",
       " '单卡': 4,\n",
       " '单日': 5,\n",
       " '卡上': 6,\n",
       " '失败': 7,\n",
       " '成功': 8,\n",
       " '换卡': 9,\n",
       " '收单': 10,\n",
       " '次数': 11,\n",
       " '账户': 12,\n",
       " '超限': 13,\n",
       " '银行卡': 14}"
      ]
     },
     "execution_count": 27,
     "metadata": {},
     "output_type": "execute_result"
    }
   ],
   "source": [
    "f = open(\n",
    "    r'C:\\Users\\535123\\Desktop\\临时事项_未归类\\代扣失败原因分类_神经网络模型\\data\\代扣失败原因分类测试.csv')\n",
    "remark = pd.read_csv(f)\n",
    "remark.head(5)\n",
    "remark.iloc[:5, 2] != 3\n",
    "#自定义词典\n",
    "jieba.load_userdict(\n",
    "    r'C:\\Users\\535123\\Desktop\\临时事项_未归类\\代扣失败原因分类_神经网络模型\\model\\dict.txt')\n",
    "sentence_list = []\n",
    "for sentence in remark.iloc[:5, 0]:\n",
    "    segs = jieba.cut(str(sentence), cut_all=False) # 分词\n",
    "    #去除停用词\n",
    "    stopwords = {}.fromkeys(['?', '的', '亲', '您', '该', '了', ' ']) # dict.fromkeys(seq[, value])\n",
    "    # fromkeys() 函数用于创建一个新字典，以序列 seq 中元素做字典的键，value 为字典所有键对应的初始值\n",
    "    final = ''\n",
    "    for seg in segs:\n",
    "        if seg not in stopwords:\n",
    "            final += seg \n",
    "\n",
    "    seg_list = jieba.cut(final, cut_all=False) # 去掉停用词后再分词\n",
    "    sentence_list.append(\" \".join(seg_list)) # 以空格间隔\n",
    "\n",
    "sentence_list\n",
    "vectorizer = CountVectorizer()  \n",
    "vectorizer.fit_transform(sentence_list).todense()\n",
    "vectorizer.vocabulary_"
   ]
  },
  {
   "cell_type": "code",
   "execution_count": null,
   "metadata": {},
   "outputs": [],
   "source": [
    "# 将文本中的词语转换为词频矩阵\n",
    "vectorizer = CountVectorizer()\n",
    "# 计算个词语出现的次数\n",
    "X = vectorizer.fit_transform(sentence_list)\n",
    "# 转为数组,todense将稀疏矩阵转化为完整特征矩阵\n",
    "arr = X.toarray()\n",
    "# 添加标签\n",
    "Y = vectorizer.fit_transform(remark.iloc[:, 1])\n",
    "brr = Y.toarray()\n",
    "\n",
    "class_list = vectorizer.vocabulary_\n",
    "class_list = dict(zip(class_list.values(), class_list.keys()))\n",
    "\n",
    "#构建训练集和测试集\n",
    "x_train, x_test, y_train, y_test = train_test_split(\n",
    "    arr[remark.iloc[:, 2] != 3],\n",
    "    brr[remark.iloc[:, 2] != 3],\n",
    "    test_size=0.3,\n",
    "    random_state=0)\n",
    "x_train = np.reshape(x_train, (len(x_train), len(x_train[0]), 1))\n",
    "x_test = np.reshape(x_test, (len(x_test), len(x_test[0]), 1))\n",
    "y_train = np.reshape(y_train, (len(y_train), len(y_train[0]), 1))\n",
    "y_test = np.reshape(y_test, (len(y_test), len(y_test[0]), 1))\n",
    "train_set = list(zip(x_train, y_train))\n",
    "test_set = list(zip(x_test, y_test))"
   ]
  }
 ],
 "metadata": {
  "kernelspec": {
   "display_name": "Python 3",
   "language": "python",
   "name": "python3"
  },
  "language_info": {
   "codemirror_mode": {
    "name": "ipython",
    "version": 3
   },
   "file_extension": ".py",
   "mimetype": "text/x-python",
   "name": "python",
   "nbconvert_exporter": "python",
   "pygments_lexer": "ipython3",
   "version": "3.6.4"
  },
  "toc": {
   "base_numbering": 1,
   "nav_menu": {},
   "number_sections": true,
   "sideBar": true,
   "skip_h1_title": false,
   "title_cell": "Table of Contents",
   "title_sidebar": "Contents",
   "toc_cell": false,
   "toc_position": {},
   "toc_section_display": true,
   "toc_window_display": false
  }
 },
 "nbformat": 4,
 "nbformat_minor": 2
}

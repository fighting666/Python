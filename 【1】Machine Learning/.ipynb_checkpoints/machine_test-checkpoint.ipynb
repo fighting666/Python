{
 "cells": [
  {
   "cell_type": "code",
   "execution_count": null,
   "metadata": {},
   "outputs": [],
   "source": [
    "from sklearn.cross_validation import train_test_split\n",
    "from sklearn.naive_bayes import MultinomialNB\n",
    "from sklearn.linear_model import LogisticRegression\n",
    "from sklearn.svm import SVC\n",
    "from sklearn.feature_extraction.text import TfidfVectorizer\n",
    "from BaseUltils import loadData  #自己写的一个工具包，用来加载文件地址"
   ]
  },
  {
   "cell_type": "code",
   "execution_count": null,
   "metadata": {},
   "outputs": [],
   "source": [
    "# 随机抽取80%的数据作为训练集，20%的数据作为测试集\n",
    "def get_train_test_data():\n",
    "    file_site = loadData.get_file_site('merge.txt')\n",
    "    f = open(file_site, encoding='UTF-8')\n",
    "    data_X = []\n",
    "    data_y = []\n",
    "    for line in f:\n",
    "        row = line.strip('\\n').split('\\t')\n",
    "        if len(row) < 2:\n",
    "            continue\n",
    "        feature = ' '.join(row[0].split(','))\n",
    "        data_X.append(feature)\n",
    "        data_y.append(row[1])\n",
    "    f.close()\n",
    "    # 80%作为训练集，20%作为测试集\n",
    "    X_train, X_test, y_train, y_test = train_test_split(data_X, data_y, test_size=0.2)\n",
    "    return X_train, X_test, y_train, y_test\n",
    "\n",
    "# 训练并测试模型-NB\n",
    "def train_model_NB():\n",
    "    X_train, X_test, y_train, y_test = get_train_test_data()\n",
    "    tv = TfidfVectorizer()\n",
    "    train_data = tv.fit_transform(X_train)\n",
    "    test_data = tv.transform(X_test)\n",
    "\n",
    "    clf = MultinomialNB(alpha=0.01)\n",
    "    clf.fit(train_data, y_train)\n",
    "    # y_predict = clf.predict(test_data)\n",
    "    print(clf.score(test_data, y_test))\n",
    "\n",
    "# 训练并测试模型-logisticRegression\n",
    "def train_model_LR():\n",
    "    X_train, X_test, y_train, y_test = get_train_test_data()\n",
    "    tv = TfidfVectorizer()\n",
    "    train_data = tv.fit_transform(X_train)\n",
    "    test_data = tv.transform(X_test)\n",
    "\n",
    "    lr = LogisticRegression(C=1000)\n",
    "    lr.fit(train_data, y_train)\n",
    "    print(lr.score(test_data, y_test))\n",
    "\n",
    "# 训练并测试模型-svm\n",
    "def train_model_SVM():\n",
    "    X_train, X_test, y_train, y_test = get_train_test_data()\n",
    "    tv = TfidfVectorizer()\n",
    "    train_data = tv.fit_transform(X_train)\n",
    "    test_data = tv.transform(X_test)\n",
    "\n",
    "    clf = SVC(C=1000.0)\n",
    "    clf.fit(train_data, y_train)\n",
    "    print(clf.score(test_data, y_test))\n",
    "if __name__==\"__main__\":\n",
    "    train_model_NB()\n",
    "    train_model_LR()\n",
    "    train_model_SVM()"
   ]
  }
 ],
 "metadata": {
  "kernelspec": {
   "display_name": "Python 3",
   "language": "python",
   "name": "python3"
  },
  "language_info": {
   "codemirror_mode": {
    "name": "ipython",
    "version": 3
   },
   "file_extension": ".py",
   "mimetype": "text/x-python",
   "name": "python",
   "nbconvert_exporter": "python",
   "pygments_lexer": "ipython3",
   "version": "3.6.4"
  },
  "toc": {
   "base_numbering": 1,
   "nav_menu": {},
   "number_sections": true,
   "sideBar": true,
   "skip_h1_title": false,
   "title_cell": "Table of Contents",
   "title_sidebar": "Contents",
   "toc_cell": false,
   "toc_position": {},
   "toc_section_display": true,
   "toc_window_display": false
  }
 },
 "nbformat": 4,
 "nbformat_minor": 2
}

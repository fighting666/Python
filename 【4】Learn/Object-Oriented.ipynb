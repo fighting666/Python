{
 "cells": [
  {
   "cell_type": "code",
   "execution_count": null,
   "metadata": {},
   "outputs": [],
   "source": [
    "class Cook_instant_noodles:\n",
    "    \n",
    "    def __init__(self):\n",
    "        self.cookedState = '生的'\n",
    "        self.cookedLevel = 0\n",
    "        \n",
    "    def __str__(self):\n",
    "        return '泡面状态：%s(%d)'%(self.cookedState,self.cookedLevel)\n",
    "# 这里新定义了两个方法（在类中使用def定义），名字分别是__init__()和__str__()方法。\n",
    "# __init__()方法：称为构造方法。在类创建对象时，自动执行，进行初始化操作。\n",
    "# __str__()方法：打印对象相关内容时候需要用到，我们可以简单理解为输出作用。"
   ]
  }
 ],
 "metadata": {
  "kernelspec": {
   "display_name": "Python 3",
   "language": "python",
   "name": "python3"
  },
  "language_info": {
   "codemirror_mode": {
    "name": "ipython",
    "version": 3
   },
   "file_extension": ".py",
   "mimetype": "text/x-python",
   "name": "python",
   "nbconvert_exporter": "python",
   "pygments_lexer": "ipython3",
   "version": "3.6.4"
  },
  "toc": {
   "base_numbering": 1,
   "nav_menu": {},
   "number_sections": true,
   "sideBar": true,
   "skip_h1_title": false,
   "title_cell": "Table of Contents",
   "title_sidebar": "Contents",
   "toc_cell": false,
   "toc_position": {},
   "toc_section_display": true,
   "toc_window_display": false
  }
 },
 "nbformat": 4,
 "nbformat_minor": 2
}

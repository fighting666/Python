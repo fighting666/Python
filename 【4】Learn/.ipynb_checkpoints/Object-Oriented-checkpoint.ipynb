{
 "cells": [
  {
   "cell_type": "code",
   "execution_count": null,
   "metadata": {},
   "outputs": [],
   "source": [
    "# 面向对象编程\n",
    "# 面向过程：自己靠双手按照流程解决问题\n",
    "# 面向对象：找个对象，让她做，自己轻松了\n",
    "# 对象是对客观事物的抽象，类是对对象的抽象\n",
    "# 对象是类的实例，类是对象的模板\n",
    "# 类的描述：类名，属性，方法\n",
    "class 类名(大驼峰命名法）：\n",
    "    #属性\n",
    "    \n",
    "    #方法\n",
    "    def xxx():\n",
    "        pass\n",
    "# 类名：类的名字\n",
    "# 属性：类的属性，可以认为是在类里对象里定义的变量\n",
    "# 方法：类的方法，是def 定义的，可以理解为函数      "
   ]
  },
  {
   "cell_type": "code",
   "execution_count": 1,
   "metadata": {
    "code_folding": []
   },
   "outputs": [
    {
     "name": "stdout",
     "output_type": "stream",
     "text": [
      "我正在开车\n",
      "翻车了\n",
      "王梦瑶的年龄是：20\n"
     ]
    }
   ],
   "source": [
    "# 定义一个类\n",
    "class Car:\n",
    "    # def定义的是类的方法（理解为类里的函数），这里定义了两个方法，drive和turnover\n",
    "    def drive(selt):\n",
    "        print('我正在开车')\n",
    "\n",
    "    def turnover(self):\n",
    "        print('翻车了')\n",
    "\n",
    "\n",
    "# 创建一个对象\n",
    "xiao_jie_jie = Car()\n",
    "xiao_jie_jie.drive()  #调用xiao_jie_jie指向的对象的方法\n",
    "xiao_jie_jie.turnover()\n",
    "\n",
    "# 添加属性,属性就是变量\n",
    "xiao_jie_jie.name = '王梦瑶'\n",
    "xiao_jie_jie.age = 20\n",
    "print('%s的年龄是：%d' % (xiao_jie_jie.name, xiao_jie_jie.age))"
   ]
  },
  {
   "cell_type": "code",
   "execution_count": 2,
   "metadata": {},
   "outputs": [
    {
     "name": "stdout",
     "output_type": "stream",
     "text": [
      "我正在开车\n",
      "翻车了\n",
      "王梦瑶的年龄是：20,特点是：北方有佳人 遗世而独立 一顾倾人城 再顾倾人国\n",
      "王大伟的年龄是：18,特点是：玉树临风 英俊潇洒 风流倜傥 貌似潘安 形貌昳丽 器宇轩昂 一表人才 雄姿英发 风度翩翩\n"
     ]
    }
   ],
   "source": [
    "class Car:\n",
    "    def drive(self):\n",
    "        print('我正在开车')\n",
    "\n",
    "    def turnover(self):\n",
    "        print('翻车了')\n",
    "\n",
    "    def introduce(self):\n",
    "        print('%s的年龄是：%d,特点是：%s' % (self.name, self.age, self.features))\n",
    "        # 因为多个对象都要使用类中的方法，为了对象都能调用这个类中的方法，需要把方法中传入的参数改成self，可以理解为谁调用了方法传的就是谁的参数进去\n",
    "\n",
    "\n",
    "#创建一个对象\n",
    "xiao_jie_jie = Car()\n",
    "\n",
    "xiao_jie_jie.drive()  #调用xiao_jie_jie指向的对象的方法\n",
    "xiao_jie_jie.turnover()\n",
    "\n",
    "#添加属性,属性就是变量\n",
    "xiao_jie_jie.name = '王梦瑶'\n",
    "xiao_jie_jie.age = 20\n",
    "xiao_jie_jie.features = '北方有佳人 遗世而独立 一顾倾人城 再顾倾人国'\n",
    "\n",
    "xiao_jie_jie.introduce()\n",
    "\n",
    "myself = Car()\n",
    "\n",
    "myself.name = '王大伟'\n",
    "myself.age = 18\n",
    "myself.features = '玉树临风 英俊潇洒 风流倜傥 貌似潘安 形貌昳丽 器宇轩昂 一表人才 雄姿英发 风度翩翩'\n",
    "\n",
    "myself.introduce()"
   ]
  },
  {
   "cell_type": "code",
   "execution_count": 21,
   "metadata": {},
   "outputs": [
    {
     "name": "stdout",
     "output_type": "stream",
     "text": [
      "\f",
      "\n",
      "泡面状态：还没熟(1)),添加的佐料有：[]\n",
      "泡面状态：还没熟(2)),添加的佐料有：['菜包', '粉包', '酱包']\n",
      "泡面状态：半生不熟(3)),添加的佐料有：['菜包', '粉包', '酱包', '冰箱里的茶叶蛋', '冰箱里的火腿肠']\n",
      "泡面状态：半生不熟(4)),添加的佐料有：['菜包', '粉包', '酱包', '冰箱里的茶叶蛋', '冰箱里的火腿肠']\n"
     ]
    }
   ],
   "source": [
    "# 注意：self是创建类中的方法时必填的参数，通过哪个对象调用的方法，则self就是哪个对象\n",
    "# class Cook_instant_noodles:\n",
    "#     def __init__(self):\n",
    "#         self.cookedState = '生的'\n",
    "#         self.cookedLevel = 0\n",
    "\n",
    "#     def __str__(self):\n",
    "#         return '泡面状态：%s(%d)' % (self.cookedState, self.cookedLevel)\n",
    "# __init__()方法：称为构造方法。在类创建对象时，自动执行，进行初始化操作。\n",
    "# __str__()方法：打印对象相关内容时候需要用到，我们可以简单理解为输出作用。\n",
    "# 在__init__()方法中，定义了泡面初试状态是生的，泡面煮熟状态时0，即还没开始煮泡面。\n",
    "# 在__str__()方法中定义泡面状态的返回。\n",
    "\n",
    "\n",
    "# 示例\n",
    "class Cook_instant_noodles:\n",
    "    # 初始化\n",
    "    def __init__(self):\n",
    "        self.cookedState = '生的'\n",
    "        self.cookedLevel = 0\n",
    "        self.condiments = []  # 定义调料列表\n",
    "\n",
    "    # 打印信息调用\n",
    "    def __str__(self):\n",
    "        return '泡面状态：%s(%d)),添加的佐料有：%s' % (self.cookedState, self.cookedLevel,\n",
    "                                           str(self.condiments))\n",
    "\n",
    "    # 定义对象cook方法\n",
    "    def cook(self, cooked_time):\n",
    "\n",
    "        self.cookedLevel += cooked_time\n",
    "\n",
    "        if self.cookedLevel >= 0 and self.cookedLevel < 3:\n",
    "            self.cookedState = '还没熟'\n",
    "        elif self.cookedLevel >= 3 and self.cookedLevel < 5:\n",
    "            self.cookedState = '半生不熟'\n",
    "        elif self.cookedLevel >= 5 and self.cookedLevel < 8:\n",
    "            self.cookedState = '煮熟了'\n",
    "        elif self.cookedLevel >= 8:\n",
    "            self.cookedState = '煮糊了'\n",
    "\n",
    "    def addCondiments(self, item):\n",
    "        #使用属性保存数据\n",
    "        self.condiments.append(item)\n",
    "\n",
    "\n",
    "# 创建了一个泡面对象\n",
    "instant_noodles = Cook_instant_noodles()\n",
    "# 打印状态\n",
    "print(instant_noodles)\n",
    "# # 对象调用cook方法，开始煮泡面\n",
    "# instant_noodles.cook(20)\n",
    "# print(instant_noodles) # 将改变后的属性显示出来\n",
    "\n",
    "# 始煮泡面 加入其他属性\n",
    "instant_noodles.cook(1)\n",
    "print(instant_noodles)\n",
    "\n",
    "instant_noodles.addCondiments('菜包')\n",
    "\n",
    "instant_noodles.addCondiments('粉包')\n",
    "\n",
    "instant_noodles.addCondiments('酱包')\n",
    "\n",
    "instant_noodles.cook(1)\n",
    "print(instant_noodles)\n",
    "\n",
    "instant_noodles.addCondiments('冰箱里的茶叶蛋')\n",
    "\n",
    "instant_noodles.addCondiments('冰箱里的火腿肠')\n",
    "\n",
    "instant_noodles.cook(1)\n",
    "print(instant_noodles)\n",
    "\n",
    "instant_noodles.cook(1)\n",
    "print(instant_noodles)\n",
    "\n",
    "instant_noodles.cook(1)"
   ]
  },
  {
   "cell_type": "code",
   "execution_count": 22,
   "metadata": {},
   "outputs": [
    {
     "name": "stdout",
     "output_type": "stream",
     "text": [
      "房子的面积是:120,户型是:三室一厅,地址是:上海市 黄浦区 人民大道 666号\n",
      "双人豪华大床占用的面积是：6\n"
     ]
    }
   ],
   "source": [
    "class Home:\n",
    "    # 定义了一个__init__()方法，用来初始化房子的area、information、address\n",
    "    def __init__(self,new_area,new_info,new_addr):\n",
    "        self.area = new_area\n",
    "        self.info = new_info\n",
    "        self.addr = new_addr\n",
    "    \n",
    "    # 定义一个__str__()方法，用来做输出，输出房子的area、information、address\n",
    "    def __str__(self):\n",
    "        return '房子的面积是:%d,户型是:%s,地址是:%s'%(self.area,self.info,self.addr)\n",
    "\n",
    "class Furniture:\n",
    "    def __init__(self,new_name,new_area):\n",
    "        self.name = new_name\n",
    "        self.area = new_area\n",
    "        \n",
    "    def __str__(self):\n",
    "        return '%s占用的面积是：%d'%(self.name,self.area)\n",
    "    \n",
    "# 创建一个对象\n",
    "fangzi = Home(120,'三室一厅','上海市 黄浦区 人民大道 666号')\n",
    "print(fangzi)\n",
    "\n",
    "# 创建一个对象\n",
    "bed1 = Furniture('双人豪华大床',6)\n",
    "print(bed1)"
   ]
  },
  {
   "cell_type": "code",
   "execution_count": 24,
   "metadata": {},
   "outputs": [
    {
     "name": "stdout",
     "output_type": "stream",
     "text": [
      "房子的总面积是:120,可用面积是:120,户型是:三室一厅,地址是:上海市 黄浦区 人民大道 666号当前房子里的物品有[]\n",
      "房子的总面积是:120,可用面积是:114,户型是:三室一厅,地址是:上海市 黄浦区 人民大道 666号当前房子里的物品有['双人豪华大床']\n",
      "房子的总面积是:120,可用面积是:113,户型是:三室一厅,地址是:上海市 黄浦区 人民大道 666号当前房子里的物品有['双人豪华大床', '立式空调']\n"
     ]
    }
   ],
   "source": [
    "class Home:\n",
    "    def __init__(self, new_area, new_info, new_addr):\n",
    "        self.area = new_area\n",
    "        self.info = new_info\n",
    "        self.addr = new_addr\n",
    "        self.left_area = new_area\n",
    "        self.contain_items = []  #保存物品的名字\n",
    "\n",
    "    def __str__(self):\n",
    "        msg = '房子的总面积是:%d,可用面积是:%d,户型是:%s,地址是:%s' % (self.area, self.left_area,\n",
    "                                                     self.info, self.addr)\n",
    "        msg += '当前房子里的物品有%s' % (str(self.contain_items))\n",
    "        return msg\n",
    "\n",
    "    def add_item(self, item):\n",
    "        self.left_area -= item.area  #item.area获取对象的属性，家具占用空间\n",
    "        self.contain_items.append(item.name)\n",
    "\n",
    "\n",
    "class Furniture:\n",
    "    def __init__(self, new_name, new_area):\n",
    "        self.name = new_name\n",
    "        self.area = new_area\n",
    "\n",
    "    def __str__(self):\n",
    "        return '%s占用的面积是：%d' % (self.name, self.area)\n",
    "\n",
    "\n",
    "fangzi = Home(120, '三室一厅', '上海市 黄浦区 人民大道 666号')\n",
    "print(fangzi)\n",
    "\n",
    "bed1 = Furniture('双人豪华大床', 6)\n",
    "# print(bed1)\n",
    "\n",
    "fangzi.add_item(bed1)\n",
    "print(fangzi)\n",
    "\n",
    "aircondition = Furniture('立式空调', 1)\n",
    "fangzi.add_item(aircondition)\n",
    "print(fangzi)"
   ]
  }
 ],
 "metadata": {
  "kernelspec": {
   "display_name": "Python 3",
   "language": "python",
   "name": "python3"
  },
  "language_info": {
   "codemirror_mode": {
    "name": "ipython",
    "version": 3
   },
   "file_extension": ".py",
   "mimetype": "text/x-python",
   "name": "python",
   "nbconvert_exporter": "python",
   "pygments_lexer": "ipython3",
   "version": "3.6.4"
  },
  "toc": {
   "base_numbering": 1,
   "nav_menu": {},
   "number_sections": true,
   "sideBar": true,
   "skip_h1_title": false,
   "title_cell": "Table of Contents",
   "title_sidebar": "Contents",
   "toc_cell": false,
   "toc_position": {},
   "toc_section_display": true,
   "toc_window_display": false
  }
 },
 "nbformat": 4,
 "nbformat_minor": 2
}

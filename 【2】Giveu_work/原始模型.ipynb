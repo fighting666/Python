{
 "cells": [
  {
   "cell_type": "code",
   "execution_count": 2,
   "metadata": {},
   "outputs": [],
   "source": [
    "import pandas as pd\n",
    "import numpy as np\n",
    "from sklearn.linear_model import LinearRegression\n",
    "import matplotlib.pyplot as plt\n",
    "\n",
    "data = pd.read_excel(\"E:/Python/【2】Giveu_work/data/DATA.xlsx\")\n",
    "X_train = data['SUM']\n",
    "y_train = data['CALL_IN']"
   ]
  },
  {
   "cell_type": "code",
   "execution_count": 3,
   "metadata": {},
   "outputs": [
    {
     "data": {
      "text/plain": [
       "LinearRegression(copy_X=True, fit_intercept=True, n_jobs=1, normalize=False)"
      ]
     },
     "execution_count": 3,
     "metadata": {},
     "output_type": "execute_result"
    },
    {
     "data": {
      "text/plain": [
       "<matplotlib.collections.PathCollection at 0xb4eb9e8>"
      ]
     },
     "execution_count": 3,
     "metadata": {},
     "output_type": "execute_result"
    },
    {
     "data": {
      "text/plain": [
       "<matplotlib.collections.PathCollection at 0xb4ebe80>"
      ]
     },
     "execution_count": 3,
     "metadata": {},
     "output_type": "execute_result"
    },
    {
     "data": {
      "text/plain": [
       "[<matplotlib.lines.Line2D at 0xb4ebe10>]"
      ]
     },
     "execution_count": 3,
     "metadata": {},
     "output_type": "execute_result"
    },
    {
     "data": {
      "text/plain": [
       "array([0.0035442])"
      ]
     },
     "execution_count": 3,
     "metadata": {},
     "output_type": "execute_result"
    },
    {
     "data": {
      "text/plain": [
       "1640.752330121517"
      ]
     },
     "execution_count": 3,
     "metadata": {},
     "output_type": "execute_result"
    },
    {
     "data": {
      "image/png": "[encoded data removed]",
      "text/plain": [
       "<matplotlib.figure.Figure at 0x5af32b0>"
      ]
     },
     "metadata": {
      "needs_background": "light"
     },
     "output_type": "display_data"
    }
   ],
   "source": [
    "LR = LinearRegression()\n",
    "LR.fit(X=X_train.values.reshape(-1, 1), y=y_train)\n",
    "X_predict = np.array([3184736.958,3095062.986,3066586.334,3065995.621,3100856.6,\t\n",
    "             3093517.127,3089172.703,3079009.72,3059671.988,3028372.807,3021785.772,3008936.1])\n",
    "y_predict = LR.predict(X_predict.reshape(-1, 1))\n",
    "plt.scatter(x=X_train, y=y_train)\n",
    "plt.scatter(x=X_predict, y=y_predict)\n",
    "\n",
    "y_train_predict = LR.predict(X_train.values.reshape(-1, 1))\n",
    "plt.plot(X_train, y_train_predict)\n",
    "\n",
    "LR.coef_\n",
    "LR.intercept_"
   ]
  },
  {
   "cell_type": "code",
   "execution_count": null,
   "metadata": {},
   "outputs": [],
   "source": [
    "import pandas as pd\n",
    "from sklearn.linear_model import LinearRegression\n",
    "import matplotlib.pyplot as plt\n",
    "import numpy as np\n",
    "#数据数据为两列数据x和y，有表头\n",
    "df = pd.read_table('d:/LinearRegression.txt')\n",
    "#通过pandas读取为DataFrame，回归用的是矩阵数据而不是列表，数据为n个样品点和m个特征值，这里特征值只有一个因此换证nx1的矩阵\n",
    "dataSet_x = df.loc[:, 'X'].as_matrix(columns=None)\n",
    "#T为矩阵转置把1xn变成nx1\n",
    "dataSet_x = np.array([dataSet_x]).T\n",
    "dataSet_y = df.loc[:, 'Y'].as_matrix(columns=None)\n",
    "dataSet_y = np.array([dataSet_y]).T\n",
    "#regr为回归过程，fit(x,y)进行回归\n",
    "regr = LinearRegression().fit(dataSet_x, dataSet_y)\n",
    "#输出R的平方\n",
    "print(regr.score(dataSet_x, dataSet_y))\n",
    "plt.scatter(dataSet_x, dataSet_y,  color='black')\n",
    "#用predic预测，这里预测输入x对应的值，进行画线\n",
    "plt.plot(dataSet_x, regr.predict(dataSet_x), color='red', linewidth=1)\n"
   ]
  }
 ],
 "metadata": {
  "kernelspec": {
   "display_name": "Python 3",
   "language": "python",
   "name": "python3"
  },
  "language_info": {
   "codemirror_mode": {
    "name": "ipython",
    "version": 3
   },
   "file_extension": ".py",
   "mimetype": "text/x-python",
   "name": "python",
   "nbconvert_exporter": "python",
   "pygments_lexer": "ipython3",
   "version": "3.6.4"
  },
  "toc": {
   "base_numbering": 1,
   "nav_menu": {},
   "number_sections": true,
   "sideBar": true,
   "skip_h1_title": false,
   "title_cell": "Table of Contents",
   "title_sidebar": "Contents",
   "toc_cell": false,
   "toc_position": {},
   "toc_section_display": true,
   "toc_window_display": false
  }
 },
 "nbformat": 4,
 "nbformat_minor": 2
}

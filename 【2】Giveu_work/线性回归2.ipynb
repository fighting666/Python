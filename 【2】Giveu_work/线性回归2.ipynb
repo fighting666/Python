{
 "cells": [
  {
   "cell_type": "code",
   "execution_count": 2,
   "metadata": {},
   "outputs": [],
   "source": [
    "import pandas as pd\n",
    "import numpy as np\n",
    "from sklearn.linear_model import LinearRegression\n",
    "import matplotlib.pyplot as plt\n",
    "\n",
    "from jupyterthemes import jtplot\n",
    "jtplot.style(theme=\"onedork\")\n",
    "jtplot.style(context='talk', fscale=1.8, spines=False, gridlines='--')\n",
    "jtplot.style(ticks=True,grid=True,figsize=(4,2))\n",
    "jtplot.reset()"
   ]
  },
  {
   "cell_type": "code",
   "execution_count": 3,
   "metadata": {},
   "outputs": [
    {
     "data": {
      "text/html": [
       "<div>\n",
       "<style scoped>\n",
       "    .dataframe tbody tr th:only-of-type {\n",
       "        vertical-align: middle;\n",
       "    }\n",
       "\n",
       "    .dataframe tbody tr th {\n",
       "        vertical-align: top;\n",
       "    }\n",
       "\n",
       "    .dataframe thead th {\n",
       "        text-align: right;\n",
       "    }\n",
       "</style>\n",
       "<table border=\"1\" class=\"dataframe\">\n",
       "  <thead>\n",
       "    <tr style=\"text-align: right;\">\n",
       "      <th></th>\n",
       "      <th>callin</th>\n",
       "      <th>contract1</th>\n",
       "      <th>contract2</th>\n",
       "      <th>contract3</th>\n",
       "    </tr>\n",
       "  </thead>\n",
       "  <tbody>\n",
       "    <tr>\n",
       "      <th>callin</th>\n",
       "      <td>1.000000</td>\n",
       "      <td>0.904681</td>\n",
       "      <td>0.898445</td>\n",
       "      <td>0.898994</td>\n",
       "    </tr>\n",
       "    <tr>\n",
       "      <th>contract1</th>\n",
       "      <td>0.904681</td>\n",
       "      <td>1.000000</td>\n",
       "      <td>0.999174</td>\n",
       "      <td>0.999266</td>\n",
       "    </tr>\n",
       "    <tr>\n",
       "      <th>contract2</th>\n",
       "      <td>0.898445</td>\n",
       "      <td>0.999174</td>\n",
       "      <td>1.000000</td>\n",
       "      <td>0.999997</td>\n",
       "    </tr>\n",
       "    <tr>\n",
       "      <th>contract3</th>\n",
       "      <td>0.898994</td>\n",
       "      <td>0.999266</td>\n",
       "      <td>0.999997</td>\n",
       "      <td>1.000000</td>\n",
       "    </tr>\n",
       "  </tbody>\n",
       "</table>\n",
       "</div>"
      ],
      "text/plain": [
       "             callin  contract1  contract2  contract3\n",
       "callin     1.000000   0.904681   0.898445   0.898994\n",
       "contract1  0.904681   1.000000   0.999174   0.999266\n",
       "contract2  0.898445   0.999174   1.000000   0.999997\n",
       "contract3  0.898994   0.999266   0.999997   1.000000"
      ]
     },
     "execution_count": 3,
     "metadata": {},
     "output_type": "execute_result"
    },
    {
     "data": {
      "text/plain": [
       "'-----------------------------------------------------------------------------------'"
      ]
     },
     "execution_count": 3,
     "metadata": {},
     "output_type": "execute_result"
    },
    {
     "data": {
      "text/plain": [
       "0      691864\n",
       "1      738578\n",
       "2      820979\n",
       "3      934157\n",
       "4     1060885\n",
       "5     1195523\n",
       "6     1340478\n",
       "7     1478685\n",
       "8     1629565\n",
       "9     1801456\n",
       "10    1962373\n",
       "11    2146311\n",
       "12    2299402\n",
       "13    2416403\n",
       "14    2580518\n",
       "15    2739410\n",
       "16    2872169\n",
       "17    2950052\n",
       "18    3029877\n",
       "19    3096705\n",
       "20    3146573\n",
       "21    3175932\n",
       "22    3189166\n",
       "23    3124894\n",
       "24    3076053\n",
       "25    3029775\n",
       "26    2978961\n",
       "27    2885870\n",
       "28    2832696\n",
       "29    2203454\n",
       "30    1968992\n",
       "31    1741121\n",
       "32    1534971\n",
       "Name: contract3, dtype: int64"
      ]
     },
     "execution_count": 3,
     "metadata": {},
     "output_type": "execute_result"
    },
    {
     "data": {
      "text/plain": [
       "<matplotlib.collections.PathCollection at 0xb5058d0>"
      ]
     },
     "execution_count": 3,
     "metadata": {},
     "output_type": "execute_result"
    },
    {
     "data": {
      "text/plain": [
       "Text(0.5,0,'contrat_sum')"
      ]
     },
     "execution_count": 3,
     "metadata": {},
     "output_type": "execute_result"
    },
    {
     "data": {
      "text/plain": [
       "Text(0,0.5,'callin')"
      ]
     },
     "execution_count": 3,
     "metadata": {},
     "output_type": "execute_result"
    },
    {
     "data": {
      "image/png": "[encoded data removed]",
      "text/plain": [
       "<matplotlib.figure.Figure at 0x35a7128>"
      ]
     },
     "metadata": {
      "needs_background": "light"
     },
     "output_type": "display_data"
    },
    {
     "data": {
      "text/plain": [
       "'-----------------------------------------------------------------------------------'"
      ]
     },
     "execution_count": 3,
     "metadata": {},
     "output_type": "execute_result"
    },
    {
     "data": {
      "text/plain": [
       "LinearRegression(copy_X=True, fit_intercept=True, n_jobs=1, normalize=False)"
      ]
     },
     "execution_count": 3,
     "metadata": {},
     "output_type": "execute_result"
    },
    {
     "name": "stdout",
     "output_type": "stream",
     "text": [
      "截距项= 1196.2696709827596 \n",
      " 回归系数= [0.00414064]\n"
     ]
    },
    {
     "data": {
      "text/plain": [
       "'-----------------------------------------------------------------------------------'"
      ]
     },
     "execution_count": 3,
     "metadata": {},
     "output_type": "execute_result"
    },
    {
     "data": {
      "text/plain": [
       "<matplotlib.collections.PathCollection at 0xb5a0eb8>"
      ]
     },
     "execution_count": 3,
     "metadata": {},
     "output_type": "execute_result"
    },
    {
     "data": {
      "text/plain": [
       "[<matplotlib.lines.Line2D at 0xb4d46d8>]"
      ]
     },
     "execution_count": 3,
     "metadata": {},
     "output_type": "execute_result"
    },
    {
     "data": {
      "text/plain": [
       "Text(0.5,0,'contract_sum')"
      ]
     },
     "execution_count": 3,
     "metadata": {},
     "output_type": "execute_result"
    },
    {
     "data": {
      "text/plain": [
       "Text(0,0.5,'callin')"
      ]
     },
     "execution_count": 3,
     "metadata": {},
     "output_type": "execute_result"
    },
    {
     "data": {
      "image/png": "[encoded data removed]",
      "text/plain": [
       "<matplotlib.figure.Figure at 0xb505c88>"
      ]
     },
     "metadata": {
      "needs_background": "light"
     },
     "output_type": "display_data"
    },
    {
     "data": {
      "text/plain": [
       "'-----------------------------------------------------------------------------------'"
      ]
     },
     "execution_count": 3,
     "metadata": {},
     "output_type": "execute_result"
    },
    {
     "data": {
      "text/plain": [
       "0.8081901712017802"
      ]
     },
     "execution_count": 3,
     "metadata": {},
     "output_type": "execute_result"
    }
   ],
   "source": [
    "# 1、进线量与电话费关系\n",
    "# 读入数据集\n",
    "data_01 = pd.read_excel(\"E:/Python/【2】Giveu_work/data/callin_contract_test2.xlsx\")\n",
    "\n",
    "#查看相关系数\n",
    "rdf_01 = data_01.corr()\n",
    "rdf_01\n",
    "'-----------------------------------------------------------------------------------'\n",
    "# 提取特征x及标签y\n",
    "# X_train = data_01['contract1']\n",
    "# X_train = data_01['contract2']\n",
    "X_train = data_01['contract3']\n",
    "Y_train = data_01['callin']\n",
    "X_train\n",
    "\n",
    "# 绘制散点图\n",
    "plt.scatter(X_train,Y_train,color = 'blue')\n",
    "plt.xlabel('contrat_sum')\n",
    "plt.ylabel('callin') \n",
    "plt.grid(True)\n",
    "plt.show()\n",
    "'-----------------------------------------------------------------------------------'\n",
    "\n",
    "# 训练集带入模型，得出拟合模型\n",
    "model_01 = LinearRegression()\n",
    "X_train = X_train.values.reshape(-1,1)\n",
    "model_01.fit(X_train,Y_train)\n",
    "\n",
    "# 计算截距项和系数 y=ax+b\n",
    "a = model_01.coef_\n",
    "b = model_01.intercept_\n",
    "print('截距项=',b,'\\n','回归系数=',a)\n",
    "'-----------------------------------------------------------------------------------'\n",
    "\n",
    "# 画出训练数据与拟合线\n",
    "plt.scatter(X_train,Y_train,color = 'blue')\n",
    "Y_train_pred = model_01.predict(X_train) # 训练数据的预测值\n",
    "plt.plot(X_train,Y_train_pred,color = 'black') # 绘制拟合线\n",
    "plt.xlabel('contract_sum')\n",
    "plt.ylabel('callin') \n",
    "plt.grid(True)\n",
    "plt.show()\n",
    "'-----------------------------------------------------------------------------------'\n",
    "\n",
    "# 计算R^2\n",
    "model_01.score(X_train,Y_train)"
   ]
  }
 ],
 "metadata": {
  "kernelspec": {
   "display_name": "Python 3",
   "language": "python",
   "name": "python3"
  },
  "language_info": {
   "codemirror_mode": {
    "name": "ipython",
    "version": 3
   },
   "file_extension": ".py",
   "mimetype": "text/x-python",
   "name": "python",
   "nbconvert_exporter": "python",
   "pygments_lexer": "ipython3",
   "version": "3.6.4"
  },
  "toc": {
   "base_numbering": 1,
   "nav_menu": {},
   "number_sections": true,
   "sideBar": true,
   "skip_h1_title": false,
   "title_cell": "Table of Contents",
   "title_sidebar": "Contents",
   "toc_cell": false,
   "toc_position": {},
   "toc_section_display": true,
   "toc_window_display": false
  }
 },
 "nbformat": 4,
 "nbformat_minor": 2
}

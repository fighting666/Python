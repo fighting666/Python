{
 "cells": [
  {
   "cell_type": "code",
   "execution_count": 2,
   "metadata": {},
   "outputs": [],
   "source": [
    "import pandas as pd\n",
    "import numpy as np\n",
    "from sklearn.linear_model import LinearRegression\n",
    "import matplotlib.pyplot as plt\n",
    "\n",
    "from jupyterthemes import jtplot\n",
    "jtplot.style(theme=\"onedork\")\n",
    "jtplot.style(context='talk', fscale=1.8, spines=False, gridlines='--')\n",
    "jtplot.style(ticks=True,grid=True,figsize=(4,2))\n",
    "jtplot.reset()"
   ]
  },
  {
   "cell_type": "code",
   "execution_count": 4,
   "metadata": {},
   "outputs": [
    {
     "data": {
      "text/html": [
       "<div>\n",
       "<style scoped>\n",
       "    .dataframe tbody tr th:only-of-type {\n",
       "        vertical-align: middle;\n",
       "    }\n",
       "\n",
       "    .dataframe tbody tr th {\n",
       "        vertical-align: top;\n",
       "    }\n",
       "\n",
       "    .dataframe thead th {\n",
       "        text-align: right;\n",
       "    }\n",
       "</style>\n",
       "<table border=\"1\" class=\"dataframe\">\n",
       "  <thead>\n",
       "    <tr style=\"text-align: right;\">\n",
       "      <th></th>\n",
       "      <th>call_sum</th>\n",
       "      <th>call_manual</th>\n",
       "      <th>call_IVR</th>\n",
       "      <th>money</th>\n",
       "    </tr>\n",
       "  </thead>\n",
       "  <tbody>\n",
       "    <tr>\n",
       "      <th>call_sum</th>\n",
       "      <td>1.000000</td>\n",
       "      <td>0.939243</td>\n",
       "      <td>0.891435</td>\n",
       "      <td>0.902606</td>\n",
       "    </tr>\n",
       "    <tr>\n",
       "      <th>call_manual</th>\n",
       "      <td>0.939243</td>\n",
       "      <td>1.000000</td>\n",
       "      <td>0.681728</td>\n",
       "      <td>0.937787</td>\n",
       "    </tr>\n",
       "    <tr>\n",
       "      <th>call_IVR</th>\n",
       "      <td>0.891435</td>\n",
       "      <td>0.681728</td>\n",
       "      <td>1.000000</td>\n",
       "      <td>0.685773</td>\n",
       "    </tr>\n",
       "    <tr>\n",
       "      <th>money</th>\n",
       "      <td>0.902606</td>\n",
       "      <td>0.937787</td>\n",
       "      <td>0.685773</td>\n",
       "      <td>1.000000</td>\n",
       "    </tr>\n",
       "  </tbody>\n",
       "</table>\n",
       "</div>"
      ],
      "text/plain": [
       "             call_sum  call_manual  call_IVR     money\n",
       "call_sum     1.000000     0.939243  0.891435  0.902606\n",
       "call_manual  0.939243     1.000000  0.681728  0.937787\n",
       "call_IVR     0.891435     0.681728  1.000000  0.685773\n",
       "money        0.902606     0.937787  0.685773  1.000000"
      ]
     },
     "execution_count": 4,
     "metadata": {},
     "output_type": "execute_result"
    },
    {
     "data": {
      "text/plain": [
       "'-----------------------------------------------------------------------------------'"
      ]
     },
     "execution_count": 4,
     "metadata": {},
     "output_type": "execute_result"
    },
    {
     "data": {
      "text/plain": [
       "<matplotlib.collections.PathCollection at 0xb6814e0>"
      ]
     },
     "execution_count": 4,
     "metadata": {},
     "output_type": "execute_result"
    },
    {
     "data": {
      "text/plain": [
       "Text(0.5,0,'callin')"
      ]
     },
     "execution_count": 4,
     "metadata": {},
     "output_type": "execute_result"
    },
    {
     "data": {
      "text/plain": [
       "Text(0,0.5,'money')"
      ]
     },
     "execution_count": 4,
     "metadata": {},
     "output_type": "execute_result"
    },
    {
     "data": {
      "image/png": "[encoded data removed]",
      "text/plain": [
       "<matplotlib.figure.Figure at 0xb5e26a0>"
      ]
     },
     "metadata": {
      "needs_background": "light"
     },
     "output_type": "display_data"
    },
    {
     "data": {
      "text/plain": [
       "'-----------------------------------------------------------------------------------'"
      ]
     },
     "execution_count": 4,
     "metadata": {},
     "output_type": "execute_result"
    },
    {
     "data": {
      "text/plain": [
       "LinearRegression(copy_X=True, fit_intercept=True, n_jobs=1, normalize=False)"
      ]
     },
     "execution_count": 4,
     "metadata": {},
     "output_type": "execute_result"
    },
    {
     "name": "stdout",
     "output_type": "stream",
     "text": [
      "截距项= 29324.065106765425 \n",
      " 回归系数= [0.59435126]\n"
     ]
    },
    {
     "data": {
      "text/plain": [
       "'-----------------------------------------------------------------------------------'"
      ]
     },
     "execution_count": 4,
     "metadata": {},
     "output_type": "execute_result"
    },
    {
     "data": {
      "text/plain": [
       "<matplotlib.collections.PathCollection at 0xb6d8e48>"
      ]
     },
     "execution_count": 4,
     "metadata": {},
     "output_type": "execute_result"
    },
    {
     "data": {
      "text/plain": [
       "[<matplotlib.lines.Line2D at 0xb692a20>]"
      ]
     },
     "execution_count": 4,
     "metadata": {},
     "output_type": "execute_result"
    },
    {
     "data": {
      "text/plain": [
       "Text(0.5,0,'callin')"
      ]
     },
     "execution_count": 4,
     "metadata": {},
     "output_type": "execute_result"
    },
    {
     "data": {
      "text/plain": [
       "Text(0,0.5,'money')"
      ]
     },
     "execution_count": 4,
     "metadata": {},
     "output_type": "execute_result"
    },
    {
     "data": {
      "image/png": "[encoded data removed]",
      "text/plain": [
       "<matplotlib.figure.Figure at 0xb68bc50>"
      ]
     },
     "metadata": {
      "needs_background": "light"
     },
     "output_type": "display_data"
    },
    {
     "data": {
      "text/plain": [
       "'-----------------------------------------------------------------------------------'"
      ]
     },
     "execution_count": 4,
     "metadata": {},
     "output_type": "execute_result"
    },
    {
     "data": {
      "text/plain": [
       "0.8146976630956533"
      ]
     },
     "execution_count": 4,
     "metadata": {},
     "output_type": "execute_result"
    }
   ],
   "source": [
    "# 1、进线量与电话费关系\n",
    "# 读入数据集\n",
    "data_01 = pd.read_excel(\"E:/Python/【2】Giveu_work/data/callin_money_test.xlsx\")\n",
    "\n",
    "#查看相关系数\n",
    "rdf_01 = data_01.corr()\n",
    "rdf_01\n",
    "'-----------------------------------------------------------------------------------'\n",
    "# 提取特征x及标签y\n",
    "X_train = data_01['call_sum']\n",
    "Y_train = data_01['money']\n",
    "\n",
    "# 绘制散点图\n",
    "plt.scatter(X_train,Y_train,color = 'blue')\n",
    "plt.xlabel('callin')\n",
    "plt.ylabel('money') \n",
    "plt.grid(True)\n",
    "plt.show()\n",
    "'-----------------------------------------------------------------------------------'\n",
    "\n",
    "# 训练集带入模型，得出拟合模型\n",
    "model_01 = LinearRegression()\n",
    "X_train = X_train.values.reshape(-1,1)\n",
    "model_01.fit(X_train,Y_train)\n",
    "\n",
    "# 计算截距项和系数 y=ax+b\n",
    "a = model_01.coef_\n",
    "b = model_01.intercept_\n",
    "print('截距项=',b,'\\n','回归系数=',a)\n",
    "'-----------------------------------------------------------------------------------'\n",
    "\n",
    "# 画出训练数据与拟合线\n",
    "plt.scatter(X_train,Y_train,color = 'blue')\n",
    "Y_train_pred = model_01.predict(X_train) # 训练数据的预测值\n",
    "plt.plot(X_train,Y_train_pred,color = 'black') # 绘制拟合线\n",
    "plt.xlabel('callin')\n",
    "plt.ylabel('money') \n",
    "plt.grid(True)\n",
    "plt.show()\n",
    "'-----------------------------------------------------------------------------------'\n",
    "\n",
    "# 计算R^2\n",
    "model_01.score(X_train,Y_train)"
   ]
  },
  {
   "cell_type": "code",
   "execution_count": 3,
   "metadata": {},
   "outputs": [
    {
     "data": {
      "text/html": [
       "<div>\n",
       "<style scoped>\n",
       "    .dataframe tbody tr th:only-of-type {\n",
       "        vertical-align: middle;\n",
       "    }\n",
       "\n",
       "    .dataframe tbody tr th {\n",
       "        vertical-align: top;\n",
       "    }\n",
       "\n",
       "    .dataframe thead th {\n",
       "        text-align: right;\n",
       "    }\n",
       "</style>\n",
       "<table border=\"1\" class=\"dataframe\">\n",
       "  <thead>\n",
       "    <tr style=\"text-align: right;\">\n",
       "      <th></th>\n",
       "      <th>callin</th>\n",
       "      <th>contract_sum</th>\n",
       "    </tr>\n",
       "  </thead>\n",
       "  <tbody>\n",
       "    <tr>\n",
       "      <th>callin</th>\n",
       "      <td>1.000000</td>\n",
       "      <td>0.904681</td>\n",
       "    </tr>\n",
       "    <tr>\n",
       "      <th>contract_sum</th>\n",
       "      <td>0.904681</td>\n",
       "      <td>1.000000</td>\n",
       "    </tr>\n",
       "  </tbody>\n",
       "</table>\n",
       "</div>"
      ],
      "text/plain": [
       "                callin  contract_sum\n",
       "callin        1.000000      0.904681\n",
       "contract_sum  0.904681      1.000000"
      ]
     },
     "execution_count": 3,
     "metadata": {},
     "output_type": "execute_result"
    },
    {
     "data": {
      "text/plain": [
       "'-----------------------------------------------------------------------------------'"
      ]
     },
     "execution_count": 3,
     "metadata": {},
     "output_type": "execute_result"
    },
    {
     "data": {
      "text/plain": [
       "<matplotlib.collections.PathCollection at 0xb4fcf98>"
      ]
     },
     "execution_count": 3,
     "metadata": {},
     "output_type": "execute_result"
    },
    {
     "data": {
      "text/plain": [
       "Text(0.5,0,'contract_sum')"
      ]
     },
     "execution_count": 3,
     "metadata": {},
     "output_type": "execute_result"
    },
    {
     "data": {
      "text/plain": [
       "Text(0,0.5,'callin')"
      ]
     },
     "execution_count": 3,
     "metadata": {},
     "output_type": "execute_result"
    },
    {
     "data": {
      "image/png": "[encoded data removed]",
      "text/plain": [
       "<matplotlib.figure.Figure at 0xb0e7e80>"
      ]
     },
     "metadata": {
      "needs_background": "light"
     },
     "output_type": "display_data"
    },
    {
     "data": {
      "text/plain": [
       "'-----------------------------------------------------------------------------------'"
      ]
     },
     "execution_count": 3,
     "metadata": {},
     "output_type": "execute_result"
    },
    {
     "data": {
      "text/plain": [
       "LinearRegression(copy_X=True, fit_intercept=True, n_jobs=1, normalize=False)"
      ]
     },
     "execution_count": 3,
     "metadata": {},
     "output_type": "execute_result"
    },
    {
     "name": "stdout",
     "output_type": "stream",
     "text": [
      "截距项= 1046.3807962625433 \n",
      " 回归系数= [0.00431208]\n"
     ]
    },
    {
     "data": {
      "text/plain": [
       "'-----------------------------------------------------------------------------------'"
      ]
     },
     "execution_count": 3,
     "metadata": {},
     "output_type": "execute_result"
    },
    {
     "data": {
      "text/plain": [
       "<matplotlib.collections.PathCollection at 0xb59e9b0>"
      ]
     },
     "execution_count": 3,
     "metadata": {},
     "output_type": "execute_result"
    },
    {
     "data": {
      "text/plain": [
       "[<matplotlib.lines.Line2D at 0xb51c860>]"
      ]
     },
     "execution_count": 3,
     "metadata": {},
     "output_type": "execute_result"
    },
    {
     "data": {
      "text/plain": [
       "Text(0.5,0,'contract_sum')"
      ]
     },
     "execution_count": 3,
     "metadata": {},
     "output_type": "execute_result"
    },
    {
     "data": {
      "text/plain": [
       "Text(0,0.5,'callin')"
      ]
     },
     "execution_count": 3,
     "metadata": {},
     "output_type": "execute_result"
    },
    {
     "data": {
      "image/png": "[encoded data removed]",
      "text/plain": [
       "<matplotlib.figure.Figure at 0xb51cef0>"
      ]
     },
     "metadata": {
      "needs_background": "light"
     },
     "output_type": "display_data"
    },
    {
     "data": {
      "text/plain": [
       "'-----------------------------------------------------------------------------------'"
      ]
     },
     "execution_count": 3,
     "metadata": {},
     "output_type": "execute_result"
    },
    {
     "data": {
      "text/plain": [
       "0.8184470884076929"
      ]
     },
     "execution_count": 3,
     "metadata": {},
     "output_type": "execute_result"
    },
    {
     "data": {
      "text/plain": [
       "'-----------------------------------------------------------------------------------'"
      ]
     },
     "execution_count": 3,
     "metadata": {},
     "output_type": "execute_result"
    },
    {
     "data": {
      "text/plain": [
       "array([6911.35254022, 6449.19677185, 6128.22711775, 5820.06434042,\n",
       "       5574.43103113, 5428.43694798, 5326.33121225, 5403.3837648 ,\n",
       "       5638.90093506, 5896.50888973, 6146.55776865, 6408.00778635,\n",
       "       6684.12749927])"
      ]
     },
     "execution_count": 3,
     "metadata": {},
     "output_type": "execute_result"
    },
    {
     "data": {
      "text/plain": [
       "<matplotlib.collections.PathCollection at 0xb60dbe0>"
      ]
     },
     "execution_count": 3,
     "metadata": {},
     "output_type": "execute_result"
    },
    {
     "data": {
      "text/plain": [
       "<matplotlib.collections.PathCollection at 0xb585518>"
      ]
     },
     "execution_count": 3,
     "metadata": {},
     "output_type": "execute_result"
    },
    {
     "data": {
      "text/plain": [
       "[<matplotlib.lines.Line2D at 0xb60dba8>]"
      ]
     },
     "execution_count": 3,
     "metadata": {},
     "output_type": "execute_result"
    },
    {
     "data": {
      "text/plain": [
       "Text(0.5,0,'contract_sum')"
      ]
     },
     "execution_count": 3,
     "metadata": {},
     "output_type": "execute_result"
    },
    {
     "data": {
      "text/plain": [
       "Text(0,0.5,'callin')"
      ]
     },
     "execution_count": 3,
     "metadata": {},
     "output_type": "execute_result"
    },
    {
     "data": {
      "image/png": "[encoded data removed]",
      "text/plain": [
       "<matplotlib.figure.Figure at 0xb585438>"
      ]
     },
     "metadata": {
      "needs_background": "light"
     },
     "output_type": "display_data"
    },
    {
     "data": {
      "text/plain": [
       "1.0"
      ]
     },
     "execution_count": 3,
     "metadata": {},
     "output_type": "execute_result"
    }
   ],
   "source": [
    "# 2、现行合同存量与日均进线量关系 \n",
    "# 读入数据集\n",
    "data_02 = pd.read_excel(\"E:/Python/【2】Giveu_work/data/callin_contract_test.xlsx\")\n",
    "\n",
    "# 查看相关系数\n",
    "rdf_02 = data_02.corr()\n",
    "rdf_02\n",
    "'-----------------------------------------------------------------------------------'\n",
    "# 提取特征x及标签y\n",
    "x_train = data_02['contract_sum']\n",
    "y_train = data_02['callin']\n",
    "# x_train = data_02.ix[0:28,'contract_sum']\n",
    "# y_train = data_02.ix[0:28,'callin']\n",
    "\n",
    "# 绘制原始数据散点图\n",
    "plt.scatter(x_train,y_train,color = 'blue')\n",
    "plt.xlabel('contract_sum')\n",
    "plt.ylabel('callin') \n",
    "plt.grid(True)\n",
    "plt.show()\n",
    "'-----------------------------------------------------------------------------------'\n",
    "\n",
    "# 训练集带入模型，得出拟合模型\n",
    "model_02 = LinearRegression()\n",
    "x_train = x_train.values.reshape(-1,1)\n",
    "model_02.fit(x_train,y_train)\n",
    "\n",
    "# 计算最佳截距项和系数\n",
    "a = model_02.coef_\n",
    "b = model_02.intercept_\n",
    "print('截距项=',b,'\\n','回归系数=',a)\n",
    "'-----------------------------------------------------------------------------------'\n",
    "\n",
    "# 画出训练数据与拟合线\n",
    "plt.scatter(x_train,y_train,color = 'blue')\n",
    "y_train_pred = model_02.predict(x_train) # 训练数据的预测值\n",
    "plt.plot(x_train,y_train_pred,color = 'black') # 绘制最佳拟合线\n",
    "plt.xlabel('contract_sum')\n",
    "plt.ylabel('callin') \n",
    "plt.grid(True)\n",
    "plt.show()\n",
    "'-----------------------------------------------------------------------------------'\n",
    "\n",
    "# 计算决定系数R^2\n",
    "model_02.score(x_train,y_train)\n",
    "\n",
    "'-----------------------------------------------------------------------------------'\n",
    "# 预测数据集\n",
    "x_predict = np.array([1360126,1252949,1178514,1107049,1050085,1016228,992549,1010418,1065036,1124777,1182765,1243397,1307431])\n",
    "x_predict = x_predict.reshape(-1, 1)\n",
    "y_predict = model_02.predict(x_predict)\n",
    "y_predict\n",
    "\n",
    "plt.scatter(x_train,y_train,color = 'blue')\n",
    "plt.scatter(x_predict,y_predict,color = 'red')\n",
    "plt.plot(x_train,y_train_pred,color = 'black') # 绘制最佳拟合线\n",
    "plt.xlabel('contract_sum')\n",
    "plt.ylabel('callin') \n",
    "plt.grid(True)\n",
    "plt.show()\n",
    "# 计算决定系数R^2，有多少的y波动可以由回归线来描述\n",
    "model_02.score(x_predict,y_predict)"
   ]
  }
 ],
 "metadata": {
  "kernelspec": {
   "display_name": "Python 3",
   "language": "python",
   "name": "python3"
  },
  "language_info": {
   "codemirror_mode": {
    "name": "ipython",
    "version": 3
   },
   "file_extension": ".py",
   "mimetype": "text/x-python",
   "name": "python",
   "nbconvert_exporter": "python",
   "pygments_lexer": "ipython3",
   "version": "3.6.4"
  },
  "toc": {
   "base_numbering": 1,
   "nav_menu": {},
   "number_sections": true,
   "sideBar": true,
   "skip_h1_title": false,
   "title_cell": "Table of Contents",
   "title_sidebar": "Contents",
   "toc_cell": false,
   "toc_position": {},
   "toc_section_display": true,
   "toc_window_display": false
  }
 },
 "nbformat": 4,
 "nbformat_minor": 2
}

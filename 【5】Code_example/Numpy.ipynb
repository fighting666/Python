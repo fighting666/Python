{
 "cells": [
  {
   "cell_type": "code",
   "execution_count": 2,
   "metadata": {},
   "outputs": [],
   "source": [
    "import numpy as np\n",
    "from tqdm import tqdm_notebook\n",
    "import math"
   ]
  },
  {
   "cell_type": "markdown",
   "metadata": {},
   "source": [
    "#### Numpy常用函数\n",
    "#####  生成函数\n",
    "|生成函数|作用|\n",
    "|:--|:--|\n",
    "|np.array( x)<br/>np.array( x, dtype)|将输入数据转化为一个ndarray<br/>将输入数据转化为一个类型为type的ndarray|\n",
    "|np.asarray( array )|将输入数据转化为一个新的（copy）ndarray|\n",
    "|np.ones( N )<br/>np.ones( N, dtype)<br/>np.ones_like( ndarray )|生成一个N长度的一维全一ndarray<br/>生成一个N长度类型是dtype的一维全一ndarray<br/>生成一个形状与参数相同的全一ndarray|\n",
    "|np.zeros( N)<br/>np.zeros( N, dtype)<br/>np.zeros_like(ndarray)|生成一个N长度的一维全零ndarray<br/>生成一个N长度类型位dtype的一维全零ndarray<br/>类似np.ones_like( ndarray )|\n",
    "|np.empty( N )<br/>np.empty( N, dtype)<br/>np.empty_like(ndarray)|生成一个N长度的未初始化一维ndarray<br/>生成一个N长度类型是dtype的未初始化一维ndarray<br/>类似np.ones_like( ndarray )|\n",
    "|np.eye( N )<br/>np.identity( N )|创建一个N * N的单位矩阵（对角线为1，其余为0）|\n",
    "|np.arange( num)<br/>np.arange( begin, end)<br/>np.arange( begin, end, step)|生成一个从0到num-1步数为1的一维ndarray<br/>生成一个从begin到end-1步数为1的一维ndarray<br/>生成一个从begin到end-step的步数为step的一维ndarray|\n",
    "|np.mershgrid(ndarray, ndarray,...)|生成一个ndarray * ndarray * ...的多维ndarray|\n",
    "|np.where(cond, ndarray1, ndarray2)|根据条件cond，选取ndarray1或者ndarray2，返回一个新的ndarray|\n",
    "|np.in1d(ndarray, [x,y,...])|检查ndarray中的元素是否等于[x,y,...]中的一个，返回bool数组|"
   ]
  },
  {
   "cell_type": "code",
   "execution_count": 10,
   "metadata": {
    "code_folding": [
     0
    ],
    "collapsed": true
   },
   "outputs": [
    {
     "data": {
      "text/plain": [
       "array([ 1. ,  7.5,  3. , 54. ,  5. ])"
      ]
     },
     "execution_count": 10,
     "metadata": {},
     "output_type": "execute_result"
    },
    {
     "data": {
      "text/plain": [
       "'1------------------------------------------------------------------------------------'"
      ]
     },
     "execution_count": 10,
     "metadata": {},
     "output_type": "execute_result"
    },
    {
     "data": {
      "text/plain": [
       "array([1., 1., 1., 1., 1., 1., 1., 1., 1., 1.])"
      ]
     },
     "execution_count": 10,
     "metadata": {},
     "output_type": "execute_result"
    },
    {
     "data": {
      "text/plain": [
       "array([[0., 0., 0.],\n",
       "       [0., 0., 0.]])"
      ]
     },
     "execution_count": 10,
     "metadata": {},
     "output_type": "execute_result"
    },
    {
     "data": {
      "text/plain": [
       "array([[ 539820088, 1819242592, 1836016761],\n",
       "       [1617848673,  539831584, 2037149520]])"
      ]
     },
     "execution_count": 10,
     "metadata": {},
     "output_type": "execute_result"
    },
    {
     "data": {
      "text/plain": [
       "array([ 1,  7,  3, 54,  5])"
      ]
     },
     "execution_count": 10,
     "metadata": {},
     "output_type": "execute_result"
    },
    {
     "data": {
      "text/plain": [
       "'2------------------------------------------------------------------------------------'"
      ]
     },
     "execution_count": 10,
     "metadata": {},
     "output_type": "execute_result"
    },
    {
     "data": {
      "text/plain": [
       "array([[1., 0.],\n",
       "       [0., 1.]])"
      ]
     },
     "execution_count": 10,
     "metadata": {},
     "output_type": "execute_result"
    },
    {
     "data": {
      "text/plain": [
       "array([[1., 0., 0.],\n",
       "       [0., 1., 0.],\n",
       "       [0., 0., 1.]])"
      ]
     },
     "execution_count": 10,
     "metadata": {},
     "output_type": "execute_result"
    },
    {
     "data": {
      "text/plain": [
       "'3------------------------------------------------------------------------------------'"
      ]
     },
     "execution_count": 10,
     "metadata": {},
     "output_type": "execute_result"
    },
    {
     "data": {
      "text/plain": [
       "array([0, 1, 2, 3, 4, 5, 6, 7, 8, 9])"
      ]
     },
     "execution_count": 10,
     "metadata": {},
     "output_type": "execute_result"
    },
    {
     "data": {
      "text/plain": [
       "array([2, 3, 4, 5, 6, 7, 8, 9])"
      ]
     },
     "execution_count": 10,
     "metadata": {},
     "output_type": "execute_result"
    },
    {
     "data": {
      "text/plain": [
       "array([1, 3, 5, 7, 9])"
      ]
     },
     "execution_count": 10,
     "metadata": {},
     "output_type": "execute_result"
    },
    {
     "data": {
      "text/plain": [
       "'4------------------------------------------------------------------------------------'"
      ]
     },
     "execution_count": 10,
     "metadata": {},
     "output_type": "execute_result"
    },
    {
     "data": {
      "text/plain": [
       "array([1.1, 2.2, 1.3, 1.4, 2.5])"
      ]
     },
     "execution_count": 10,
     "metadata": {},
     "output_type": "execute_result"
    },
    {
     "data": {
      "text/plain": [
       "array([0, 3, 0, 1, 2])"
      ]
     },
     "execution_count": 10,
     "metadata": {},
     "output_type": "execute_result"
    },
    {
     "data": {
      "text/plain": [
       "'--------------------------------------------------------------'"
      ]
     },
     "execution_count": 10,
     "metadata": {},
     "output_type": "execute_result"
    },
    {
     "data": {
      "text/plain": [
       "array([[-2,  2, -2],\n",
       "       [-2, -2, -2],\n",
       "       [-2,  2,  2]])"
      ]
     },
     "execution_count": 10,
     "metadata": {},
     "output_type": "execute_result"
    },
    {
     "data": {
      "text/plain": [
       "'5------------------------------------------------------------------------------------'"
      ]
     },
     "execution_count": 10,
     "metadata": {},
     "output_type": "execute_result"
    },
    {
     "data": {
      "text/plain": [
       "array([ True, False, False,  True,  True, False,  True])"
      ]
     },
     "execution_count": 10,
     "metadata": {},
     "output_type": "execute_result"
    }
   ],
   "source": [
    "# 生成函数例子\n",
    "data=[1,7.5,3,54,5]\n",
    "arr1=np.array([1,7.5,3,54,5])\n",
    "arr2=np.array(data,dtype=np.int32)\n",
    "np.asarray(data)\n",
    "'1------------------------------------------------------------------------------------'\n",
    "np.ones(10)\n",
    "np.zeros((2,3))\n",
    "np.empty((2,3),dtype=np.int32)\n",
    "np.empty_like(arr2)\n",
    "'2------------------------------------------------------------------------------------'\n",
    "np.eye(2)\n",
    "np.identity(3)\n",
    "'3------------------------------------------------------------------------------------'\n",
    "np.arange(10)\n",
    "np.arange(2,10)\n",
    "np.arange(1,10,2)\n",
    "'4------------------------------------------------------------------------------------'\n",
    "xarr=np.array([1.1,1.2,1.3,1.4,1.5])\n",
    "yarr=np.array([2.1,2.2,2.3,2.4,2.5])\n",
    "cond1=np.array([True,False,True,True,False])\n",
    "cond2=np.array([True,False,True,False,True])\n",
    "np.where(cond,xarr,yarr) # cond为true选择xarr否则选择yarr\n",
    "np.where(cond1 & cond2,0,np.where(cond1,1,np.where(cond2,2,3))) # 简单实现for循环\n",
    "'--------------------------------------------------------------'\n",
    "arr3=np.random.randn(3,3)\n",
    "np.where(arr3>0,2,-2) # 快速替换数组中不符合要求的元素\n",
    "'5------------------------------------------------------------------------------------'\n",
    "arr4=np.array([6,0,0,3,2,5,6])\n",
    "np.in1d(arr4,[2,3,6])"
   ]
  },
  {
   "cell_type": "markdown",
   "metadata": {},
   "source": [
    "##### 矩阵函数\n",
    "|矩阵函数|说明|\n",
    "|:--|:--|\n",
    "|np.diag( ndarray)|以一维数组的形式返回方阵的对角线（或非对角线）元素|\n",
    "|np.diag( [x,y,...])|将一维数组转化为方阵（非对角线元素为0）|\n",
    "|np.dot(ndarray, ndarray)|矩阵乘法|\n",
    "|np.trace( ndarray)|计算对角线元素的和|"
   ]
  },
  {
   "cell_type": "code",
   "execution_count": 79,
   "metadata": {
    "code_folding": [
     0
    ],
    "collapsed": true
   },
   "outputs": [
    {
     "data": {
      "text/plain": [
       "array([1., 1., 1., 1.])"
      ]
     },
     "execution_count": 79,
     "metadata": {},
     "output_type": "execute_result"
    },
    {
     "data": {
      "text/plain": [
       "array([[1., 0., 0., 0.],\n",
       "       [0., 1., 0., 0.],\n",
       "       [0., 0., 1., 0.],\n",
       "       [0., 0., 0., 1.]])"
      ]
     },
     "execution_count": 79,
     "metadata": {},
     "output_type": "execute_result"
    },
    {
     "data": {
      "text/plain": [
       "4.0"
      ]
     },
     "execution_count": 79,
     "metadata": {},
     "output_type": "execute_result"
    },
    {
     "data": {
      "text/plain": [
       "4.0"
      ]
     },
     "execution_count": 79,
     "metadata": {},
     "output_type": "execute_result"
    }
   ],
   "source": [
    "# 矩阵函数例子\n",
    "arr5=np.ones((4,4))\n",
    "np.diag(arr5)\n",
    "np.diag(arr5[0])\n",
    "np.dot(arr5[0],arr5[1]) # x.dot(y)\n",
    "np.trace(arr5) # 对角线元素和"
   ]
  },
  {
   "cell_type": "markdown",
   "metadata": {},
   "source": [
    "##### 排序函数\n",
    "|排序函数|说明|\n",
    "|:--|:--|\n",
    "|np.sort( ndarray)|排序，返回副本|\n",
    "|np.unique(ndarray)|返回ndarray中的元素，排除重复元素之后，并进行排序|\n",
    "|np.intersect1d( ndarray1, ndarray2)|返回二者的交集并排序。|\n",
    "|np.union1d( ndarray1, ndarray2)|返回二者的并集并排序。|\n",
    "|np.setdiff1d( ndarray1, ndarray2)|返回二者的差。|\n",
    "|np.setxor1d( ndarray1, ndarray2)|返回二者的对称差|"
   ]
  },
  {
   "cell_type": "code",
   "execution_count": 49,
   "metadata": {
    "code_folding": [
     0
    ],
    "collapsed": true
   },
   "outputs": [
    {
     "data": {
      "text/plain": [
       "array([ 2.07292296, -1.07581669, -1.18633297, -1.17428201])"
      ]
     },
     "execution_count": 49,
     "metadata": {},
     "output_type": "execute_result"
    },
    {
     "data": {
      "text/plain": [
       "array([-1.18633297, -1.17428201, -1.07581669,  2.07292296])"
      ]
     },
     "execution_count": 49,
     "metadata": {},
     "output_type": "execute_result"
    },
    {
     "data": {
      "text/plain": [
       "-1.1742820094251654"
      ]
     },
     "execution_count": 49,
     "metadata": {},
     "output_type": "execute_result"
    },
    {
     "data": {
      "text/plain": [
       "'------------------------------------------------------------------------------------'"
      ]
     },
     "execution_count": 49,
     "metadata": {},
     "output_type": "execute_result"
    },
    {
     "data": {
      "text/plain": [
       "array(['Bob', 'Joe', 'Will'], dtype='<U4')"
      ]
     },
     "execution_count": 49,
     "metadata": {},
     "output_type": "execute_result"
    },
    {
     "data": {
      "text/plain": [
       "array(['Bob', 'Joe'], dtype='<U4')"
      ]
     },
     "execution_count": 49,
     "metadata": {},
     "output_type": "execute_result"
    },
    {
     "data": {
      "text/plain": [
       "array(['Bob', 'Joe', 'Will', 'cdse', 'ghjk', 'jou', 'rewq', 'thk'],\n",
       "      dtype='<U4')"
      ]
     },
     "execution_count": 49,
     "metadata": {},
     "output_type": "execute_result"
    },
    {
     "data": {
      "text/plain": [
       "array(['Will'], dtype='<U4')"
      ]
     },
     "execution_count": 49,
     "metadata": {},
     "output_type": "execute_result"
    },
    {
     "data": {
      "text/plain": [
       "array(['Will', 'cdse', 'ghjk', 'jou', 'rewq', 'thk'], dtype='<U4')"
      ]
     },
     "execution_count": 49,
     "metadata": {},
     "output_type": "execute_result"
    }
   ],
   "source": [
    "# 排序函数例子\n",
    "arr6=np.random.randn(4,4)\n",
    "arr6[1]\n",
    "arr6.sort(1) # 按第一行排序\n",
    "large_arr=arr6[1]\n",
    "large_arr\n",
    "large_arr[int(0.25*len(large_arr))] #25%分位数\n",
    "'------------------------------------------------------------------------------------'\n",
    "name1=np.array(['Bob','Joe','Will','Bob','Will','Joe','Joe'])\n",
    "name2=np.array(['Bob','jou','rewq','thk','ghjk','cdse','Joe'])\n",
    "np.unique(name1) \n",
    "np.intersect1d(name1,name2) # 交\n",
    "np.union1d(name1,name2) # 并\n",
    "np.setdiff1d(name1,name2) # 差\n",
    "np.setxor1d(name1,name2)"
   ]
  },
  {
   "cell_type": "markdown",
   "metadata": {},
   "source": [
    "##### 一元计算函数\n",
    "|一元计算函数|说明|\n",
    "|:--|:--|\n",
    "|np.abs(ndarray)<br/>np.fabs(ndarray)|计算绝对值<br/>计算绝对值（非复数）|\n",
    "|np.mean(ndarray)|求平均值|\n",
    "|np.sqrt(ndarray)|计算x^0.5|\n",
    "|np.square(ndarray)|计算x^2|\n",
    "|np.exp(ndarray)|计算e^x|\n",
    "|log、log10、log2、log1p|计算自然对数、底为10的log、底为2的log、底为(1+x)的log|\n",
    "|np.sign(ndarray)|计算正负号：1（正）、0（0）、-1（负）|\n",
    "|np.ceil(ndarray)<br/>np.floor(ndarray)<br/>np.rint(ndarray)|计算大于等于该值的最小整数<br/>计算小于等于该值的最大整数<br/>四舍五入到最近的整数，保留dtype|\n",
    "|np.modf(ndarray)|将数组的小数和整数部分以两个独立的数组方式返回|\n",
    "|np.isnan(ndarray)|返回一个判断是否是NaN的bool型数组|\n",
    "|np.isfinite(ndarray)<br/>np.isinf(ndarray)|返回一个判断是否是有穷（非inf，非NaN）的bool型数组<br/>返回一个判断是否是无穷的bool型数组|\n",
    "|cos、cosh、sin、sinh、tan、tanh|普通型和双曲型三角函数|\n",
    "|arccos、arccosh、arcsin、arcsinh、arctan、arctanh|反三角函数和双曲型反三角函数|\n",
    "|np.logical_not(ndarray)|计算各元素not x的真值，相当于-ndarray|\n"
   ]
  },
  {
   "cell_type": "markdown",
   "metadata": {},
   "source": [
    "##### 多元计算函数\n",
    "|多元计算函数|说明|\n",
    "|:--|:--|\n",
    "|np.add(ndarray, ndarray)<br/>np.subtract(ndarray, ndarray)<br/>np.multiply(ndarray, ndarray)<br/>np.divide(ndarray, ndarray)<br/>np.floor_divide(ndarray, ndarray)<br/>np.power(ndarray, ndarray)<br/>np.mod(ndarray, ndarray)|相加<br/>相减<br/>乘法<br/>除法<br/>圆整除法（丢弃余数）<br/>次方<br/>求模|\n",
    "|np.maximum(ndarray, ndarray)<br/>np.fmax(ndarray, ndarray)<br/>np.minimun(ndarray, ndarray)<br/>np.fmin(ndarray, ndarray)|求最大值<br/>求最大值（忽略NaN）<br/>求最小值<br/>求最小值（忽略NaN）|\n",
    "|np.copysign(ndarray, ndarray)|将参数2中的符号赋予参数1|\n",
    "|np.greater(ndarray, ndarray)<br/>np.greater_equal(ndarray, ndarray)<br/>np.less(ndarray, ndarray)<br/>np.less_equal(ndarray, ndarray)<br/>np.equal(ndarray, ndarray)<br/>np.not_equal(ndarray, ndarray)|><br/>>=<br/><<br/><=<br/>==<br/>!=|\n",
    "|logical_and(ndarray, ndarray)<br/>logical_or(ndarray, ndarray)<br/>logical_xor(ndarray, ndarray)|&<br/>\\|<br/>^|\n",
    "|np.dot( ndarray, ndarray)|计算两个ndarray的矩阵内积|\n",
    "|np.ix_([x,y,m,n],...)|生成一个索引器，用于Fancy indexing(花式索引)|"
   ]
  },
  {
   "cell_type": "markdown",
   "metadata": {},
   "source": [
    "##### 文件读写\n",
    "|文件读写|说明|\n",
    "|:--|:--|\n",
    "|np.save(string, ndarray)|将ndarray保存到文件名为 [string].npy 的文件中（无压缩）|\n",
    "|np.savez(string, a1=ndarray1, a2=ndarray2, ...)|将所有的ndarray(数组以关键字参数传入)压缩保存到文件名为[string].npy的文件中|\n",
    "|np.savetxt(sring, ndarray, fmt, newline='\\n')|将ndarray写入文件，格式为fmt|\n",
    "|np.load(string)|读取文件名string的文件内容并转化为ndarray对象（或字典对象）|\n",
    "|np.loadtxt(string, delimiter)|读取文件名string的文件内容，以delimiter为分隔符转化为ndarray|"
   ]
  },
  {
   "cell_type": "code",
   "execution_count": 1,
   "metadata": {
    "code_folding": [
     0
    ],
    "scrolled": true
   },
   "outputs": [
    {
     "ename": "SyntaxError",
     "evalue": "invalid syntax (<ipython-input-1-3be4bf726ff8>, line 4)",
     "output_type": "error",
     "traceback": [
      "\u001b[1;36m  File \u001b[1;32m\"<ipython-input-1-3be4bf726ff8>\"\u001b[1;36m, line \u001b[1;32m4\u001b[0m\n\u001b[1;33m    np.savez('some_array.npz',a=arr1,b=arr2)np.savetxt('arrray_test.txt', ndarray, fmt, newline='\\n')\u001b[0m\n\u001b[1;37m                                             ^\u001b[0m\n\u001b[1;31mSyntaxError\u001b[0m\u001b[1;31m:\u001b[0m invalid syntax\n"
     ]
    }
   ],
   "source": [
    "# 文件的读写\n",
    "np.save('some_array',arr)\n",
    "np.load(\"some_array.npy\")\n",
    "np.savez('some_array.npz',a=arr1,b=arr2)\\\n",
    "np.savetxt('arrray_test.txt', ndarray, fmt, newline='\\n')\n",
    "np.loadtxt('arrray_test.txt', delimiter=',')"
   ]
  },
  {
   "cell_type": "markdown",
   "metadata": {},
   "source": [
    "#### NumPy.ndarray函数和属性\n",
    "##### ndarray基本属性\n",
    "|ndarray属性|说明|\n",
    "|:--|:--|\n",
    "|ndarray.ndim|获取ndarray的维数|\n",
    "|ndarray.shape|获取ndarray各个维度的长度|\n",
    "|ndarray.dtype|获取ndarray中元素的数据类型|\n",
    "|ndarray.T|简单转置矩阵ndarray|"
   ]
  },
  {
   "cell_type": "code",
   "execution_count": 52,
   "metadata": {
    "code_folding": [
     0
    ],
    "collapsed": true
   },
   "outputs": [
    {
     "data": {
      "text/plain": [
       "(4,)"
      ]
     },
     "execution_count": 52,
     "metadata": {},
     "output_type": "execute_result"
    },
    {
     "data": {
      "text/plain": [
       "2"
      ]
     },
     "execution_count": 52,
     "metadata": {},
     "output_type": "execute_result"
    },
    {
     "data": {
      "text/plain": [
       "dtype('float64')"
      ]
     },
     "execution_count": 52,
     "metadata": {},
     "output_type": "execute_result"
    },
    {
     "data": {
      "text/plain": [
       "dtype('int32')"
      ]
     },
     "execution_count": 52,
     "metadata": {},
     "output_type": "execute_result"
    },
    {
     "data": {
      "text/plain": [
       "array([[1, 4],\n",
       "       [2, 5],\n",
       "       [3, 6]])"
      ]
     },
     "execution_count": 52,
     "metadata": {},
     "output_type": "execute_result"
    }
   ],
   "source": [
    "# ndarray属性\n",
    "arr_01=np.array([6,7.5,8.0,5])\n",
    "arr_02=np.array([[1,2,3],[4,5,6]])\n",
    "arr_01.shape\n",
    "arr_02.ndim\n",
    "arr_01.dtype\n",
    "arr_02.dtype\n",
    "arr_02.T"
   ]
  },
  {
   "cell_type": "markdown",
   "metadata": {},
   "source": [
    "##### ndarray函数\n",
    "|ndarray函数|说明|\n",
    "|:--|:--|\n",
    "|ndarray.astype(dtype)|转换类型，若转换失败则会出现TypeError|\n",
    "|ndarray.copy()|复制一份ndarray(新的内存空间)|\n",
    "|ndarray.reshape((N,M,...))|将ndarray转化为N*M*...的多维ndarray（非copy）|\n",
    "|ndarray.transpose((xIndex,yIndex,...))|根据维索引xIndex,yIndex...进行矩阵转置，依赖于shape，不能用于一维矩阵（非copy）|\n",
    "|ndarray.swapaxes(xIndex,yIndex)|交换维度（非copy）|"
   ]
  },
  {
   "cell_type": "code",
   "execution_count": 59,
   "metadata": {
    "code_folding": [
     0
    ],
    "collapsed": true
   },
   "outputs": [
    {
     "data": {
      "text/plain": [
       "array([0., 1., 2., 3., 4., 5., 6., 7., 8., 9.])"
      ]
     },
     "execution_count": 59,
     "metadata": {},
     "output_type": "execute_result"
    },
    {
     "data": {
      "text/plain": [
       "array([7, 8, 9])"
      ]
     },
     "execution_count": 59,
     "metadata": {},
     "output_type": "execute_result"
    },
    {
     "data": {
      "text/plain": [
       "array([[ 0,  1,  2,  3,  4],\n",
       "       [ 5,  6,  7,  8,  9],\n",
       "       [10, 11, 12, 13, 14]])"
      ]
     },
     "execution_count": 59,
     "metadata": {},
     "output_type": "execute_result"
    },
    {
     "data": {
      "text/plain": [
       "array([[[ 0,  1,  2,  3],\n",
       "        [ 8,  9, 10, 11]],\n",
       "\n",
       "       [[ 4,  5,  6,  7],\n",
       "        [12, 13, 14, 15]]])"
      ]
     },
     "execution_count": 59,
     "metadata": {},
     "output_type": "execute_result"
    },
    {
     "data": {
      "text/plain": [
       "array([[[ 0,  4],\n",
       "        [ 1,  5],\n",
       "        [ 2,  6],\n",
       "        [ 3,  7]],\n",
       "\n",
       "       [[ 8, 12],\n",
       "        [ 9, 13],\n",
       "        [10, 14],\n",
       "        [11, 15]]])"
      ]
     },
     "execution_count": 59,
     "metadata": {},
     "output_type": "execute_result"
    }
   ],
   "source": [
    "# ndarray函数\n",
    "int_array=np.arange(10)\n",
    "float_arr=np.array([.22,.27,.357,.44],dtype=np.float)\n",
    "int_array.astype(float_arr.dtype) # 等价于i nt_array.astype(np.float16)\n",
    "'------------------------------------------------------------------------------------'\n",
    "int_array[7:10].copy()\n",
    "arr7=np.arange(15).reshape((3,5))\n",
    "arr7\n",
    "'------------------------------------------------------------------------------------'\n",
    "arr8=np.arange(16).reshape((2,2,4))\n",
    "arr8.transpose((1,0,2))\n",
    "arr8.swapaxes(1,2)"
   ]
  },
  {
   "cell_type": "markdown",
   "metadata": {},
   "source": [
    "##### ndarray计算函数\n",
    "|ndarray计算函数|说明|\n",
    "|:--|:--|\n",
    "|ndarray.mean( axis=0 )|求平均值 |\n",
    "|ndarray.sum( axis= 0)|求和 |\n",
    "|ndarray.cumsum( axis=0)|累加 |\n",
    "|ndarray.cumprod( axis=0)|累乘|\n",
    "|ndarray.std()|方差|\n",
    "|ndarray.var()|标准差|\n",
    "|ndarray.max()|最大值|\n",
    "|ndarray.min()|最小值|\n",
    "|ndarray.argmax()|最大值索引|\n",
    "|ndarray.argmin()|最小值索引|\n",
    "|ndarray.any()|是否至少有一个True|\n",
    "|ndarray.all()|是否全部为True|\n",
    "|ndarray.dot( ndarray)|计算矩阵内积|\n",
    "|排序函数|说明|\n",
    "|ndarray.sort(axis=0)|排序，返回源数据|"
   ]
  },
  {
   "cell_type": "code",
   "execution_count": 63,
   "metadata": {
    "code_folding": [
     0
    ],
    "collapsed": true
   },
   "outputs": [
    {
     "data": {
      "text/plain": [
       "8"
      ]
     },
     "execution_count": 63,
     "metadata": {},
     "output_type": "execute_result"
    },
    {
     "data": {
      "text/plain": [
       "True"
      ]
     },
     "execution_count": 63,
     "metadata": {},
     "output_type": "execute_result"
    },
    {
     "data": {
      "text/plain": [
       "False"
      ]
     },
     "execution_count": 63,
     "metadata": {},
     "output_type": "execute_result"
    },
    {
     "data": {
      "text/plain": [
       "False"
      ]
     },
     "execution_count": 63,
     "metadata": {},
     "output_type": "execute_result"
    }
   ],
   "source": [
    "# ndarray计算函数\n",
    "arr9=np.random.randn(10)\n",
    "(arr9>0).sum(0)\n",
    "bools=np.array([False,True,False,False])\n",
    "bools.any()\n",
    "bools.all()\n",
    "(arr9>0).all()"
   ]
  },
  {
   "cell_type": "markdown",
   "metadata": {},
   "source": [
    "##### ndarray索引/切片方式\n",
    "| ndarray索引/切片方式|说明|\n",
    "|:--|:--|\n",
    "|ndarray[n]|选取第n+1个元素|\n",
    "|ndarray[n:m]|选取第n+1到第m个元素|\n",
    "|ndarray[:]|选取全部元素|\n",
    "|ndarray[n:]|选取第n+1到最后一个元素|\n",
    "|ndarray[:n]|选取第0到第n个元素|\n",
    "|ndarray[ bool_ndarray ]<br/>注：bool_ndarray表示bool类型的ndarray|选取为true的元素|\n",
    "|ndarray[[x,y,m,n]]…|选取顺序和序列为x、y、m、n的ndarray|\n",
    "|ndarray[n,m]<br/>ndarray[n][m]|选取第n+1行第m+1个元素|\n",
    "|ndarray[n,m,...]<br/>ndarray[n][m]....|选取n+1行m+1列....的元素|\n",
    "|ndarray[:n,m:]|选取前n行第m+1个元素|\n",
    "|ndarray[n,:m]|选取前n+1行第m个元素|\n"
   ]
  },
  {
   "cell_type": "code",
   "execution_count": 69,
   "metadata": {
    "code_folding": [
     0
    ],
    "collapsed": true
   },
   "outputs": [
    {
     "data": {
      "text/plain": [
       "5"
      ]
     },
     "execution_count": 69,
     "metadata": {},
     "output_type": "execute_result"
    },
    {
     "data": {
      "text/plain": [
       "array([5, 6, 7])"
      ]
     },
     "execution_count": 69,
     "metadata": {},
     "output_type": "execute_result"
    },
    {
     "data": {
      "text/plain": [
       "array([6, 7, 8, 9])"
      ]
     },
     "execution_count": 69,
     "metadata": {},
     "output_type": "execute_result"
    },
    {
     "data": {
      "text/plain": [
       "array([0, 1, 2, 3, 4, 5])"
      ]
     },
     "execution_count": 69,
     "metadata": {},
     "output_type": "execute_result"
    },
    {
     "data": {
      "text/plain": [
       "array([   0,    1,    2,    3,    4, 1234, 1234, 1234,    8,    9])"
      ]
     },
     "execution_count": 69,
     "metadata": {},
     "output_type": "execute_result"
    }
   ],
   "source": [
    "# ndarray索引/切片方式\n",
    "# 一维数组索引切片\n",
    "arr_1=np.arange(10)\n",
    "arr_1[5]\n",
    "arr_1[5:8]\n",
    "arr_1[6:]\n",
    "arr_1[:6]\n",
    "# 数组的切片是原始数组的视图，修改切片时会直接反映到原数组上\n",
    "arr_1[5:8]=1234\n",
    "arr_1"
   ]
  },
  {
   "cell_type": "code",
   "execution_count": 70,
   "metadata": {
    "code_folding": [
     0
    ],
    "collapsed": true
   },
   "outputs": [
    {
     "data": {
      "text/plain": [
       "array([[[ 1,  2,  3],\n",
       "        [ 4,  5,  6]],\n",
       "\n",
       "       [[ 7,  8,  9],\n",
       "        [10, 11, 12]]])"
      ]
     },
     "execution_count": 70,
     "metadata": {},
     "output_type": "execute_result"
    },
    {
     "data": {
      "text/plain": [
       "array([[1, 2, 3],\n",
       "       [4, 5, 6]])"
      ]
     },
     "execution_count": 70,
     "metadata": {},
     "output_type": "execute_result"
    },
    {
     "data": {
      "text/plain": [
       "array([4, 5, 6])"
      ]
     },
     "execution_count": 70,
     "metadata": {},
     "output_type": "execute_result"
    },
    {
     "data": {
      "text/plain": [
       "4"
      ]
     },
     "execution_count": 70,
     "metadata": {},
     "output_type": "execute_result"
    },
    {
     "data": {
      "text/plain": [
       "'------------------------------------------------------------------------------'"
      ]
     },
     "execution_count": 70,
     "metadata": {},
     "output_type": "execute_result"
    },
    {
     "data": {
      "text/plain": [
       "array([[1, 2, 3],\n",
       "       [4, 5, 6],\n",
       "       [7, 8, 9]])"
      ]
     },
     "execution_count": 70,
     "metadata": {},
     "output_type": "execute_result"
    },
    {
     "data": {
      "text/plain": [
       "array([], shape=(0, 3), dtype=int32)"
      ]
     },
     "execution_count": 70,
     "metadata": {},
     "output_type": "execute_result"
    },
    {
     "data": {
      "text/plain": [
       "array([[1, 2, 3],\n",
       "       [4, 5, 6]])"
      ]
     },
     "execution_count": 70,
     "metadata": {},
     "output_type": "execute_result"
    },
    {
     "data": {
      "text/plain": [
       "array([[7, 8, 9]])"
      ]
     },
     "execution_count": 70,
     "metadata": {},
     "output_type": "execute_result"
    },
    {
     "data": {
      "text/plain": [
       "array([[2, 3],\n",
       "       [5, 6]])"
      ]
     },
     "execution_count": 70,
     "metadata": {},
     "output_type": "execute_result"
    },
    {
     "data": {
      "text/plain": [
       "array([4, 5])"
      ]
     },
     "execution_count": 70,
     "metadata": {},
     "output_type": "execute_result"
    },
    {
     "data": {
      "text/plain": [
       "array([7])"
      ]
     },
     "execution_count": 70,
     "metadata": {},
     "output_type": "execute_result"
    },
    {
     "data": {
      "text/plain": [
       "array([[1],\n",
       "       [4],\n",
       "       [7]])"
      ]
     },
     "execution_count": 70,
     "metadata": {},
     "output_type": "execute_result"
    }
   ],
   "source": [
    "# 高维数组索引/切片\n",
    "arr3d=np.array([[[1,2,3],[4,5,6]],[[7,8,9],[10,11,12]]])\n",
    "arr3d\n",
    "arr3d[0] #一维\n",
    "arr3d[0,1] #二维 （等价于 arr3d[0][1])\n",
    "arr3d[0,1,0] #三维 (等价于 arr3d[0][1][0])\n",
    "'------------------------------------------------------------------------------'\n",
    "arr2d=np.array([[1,2,3],[4,5,6],[7,8,9]])\n",
    "arr2d\n",
    "arr2d[:0] #创建一个形状相同的空数组\n",
    "arr2d[:2]\n",
    "arr2d[2:]\n",
    "arr2d[:2,1:]\n",
    "arr2d[1,:2]\n",
    "arr2d[2,:1]\n",
    "arr2d[:,:1]"
   ]
  },
  {
   "cell_type": "code",
   "execution_count": 73,
   "metadata": {
    "code_folding": [
     0
    ],
    "collapsed": true
   },
   "outputs": [
    {
     "data": {
      "text/plain": [
       "array([[0.33941649, 0.65116192, 0.93824344, 0.29002249],\n",
       "       [0.50000329, 0.77587939, 0.21230807, 0.67183365],\n",
       "       [0.77376553, 0.13012356, 0.87731599, 0.29837325],\n",
       "       [0.45061448, 0.04886051, 0.47766973, 0.15143359],\n",
       "       [0.89001235, 0.80974726, 0.83793562, 0.3681108 ],\n",
       "       [0.07796115, 0.67935599, 0.47303493, 0.29083483],\n",
       "       [0.5727589 , 0.99951767, 0.38358243, 0.17562358]])"
      ]
     },
     "execution_count": 73,
     "metadata": {},
     "output_type": "execute_result"
    },
    {
     "data": {
      "text/plain": [
       "array([[0.33941649, 0.65116192, 0.93824344, 0.29002249],\n",
       "       [0.45061448, 0.04886051, 0.47766973, 0.15143359]])"
      ]
     },
     "execution_count": 73,
     "metadata": {},
     "output_type": "execute_result"
    },
    {
     "data": {
      "text/plain": [
       "array([[0.93824344, 0.29002249],\n",
       "       [0.47766973, 0.15143359]])"
      ]
     },
     "execution_count": 73,
     "metadata": {},
     "output_type": "execute_result"
    },
    {
     "data": {
      "text/plain": [
       "array([0.29002249, 0.15143359])"
      ]
     },
     "execution_count": 73,
     "metadata": {},
     "output_type": "execute_result"
    },
    {
     "data": {
      "text/plain": [
       "array([[0.33941649, 0.65116192, 0.93824344, 0.29002249],\n",
       "       [0.77376553, 0.13012356, 0.87731599, 0.29837325],\n",
       "       [0.45061448, 0.04886051, 0.47766973, 0.15143359],\n",
       "       [0.89001235, 0.80974726, 0.83793562, 0.3681108 ]])"
      ]
     },
     "execution_count": 73,
     "metadata": {},
     "output_type": "execute_result"
    },
    {
     "data": {
      "text/plain": [
       "array([[7.        , 7.        , 7.        , 7.        ],\n",
       "       [0.50000329, 0.77587939, 0.21230807, 0.67183365],\n",
       "       [7.        , 7.        , 7.        , 7.        ],\n",
       "       [7.        , 7.        , 7.        , 7.        ],\n",
       "       [7.        , 7.        , 7.        , 7.        ],\n",
       "       [0.07796115, 0.67935599, 0.47303493, 0.29083483],\n",
       "       [0.5727589 , 0.99951767, 0.38358243, 0.17562358]])"
      ]
     },
     "execution_count": 73,
     "metadata": {},
     "output_type": "execute_result"
    }
   ],
   "source": [
    "# 布尔型索引\n",
    "names=np.array(['Bob','Joe','Will','Bob','Will','Joe','Joe'])\n",
    "data=np.random.random((7,4))\n",
    "data\n",
    "data[names=='Bob']\n",
    "data[names=='Bob',2:]\n",
    "data[names=='Bob',3]\n",
    "data[(names=='Bob')|(names=='Will')]\n",
    "data[names!='Joe']=7\n",
    "data"
   ]
  },
  {
   "cell_type": "code",
   "execution_count": 74,
   "metadata": {
    "code_folding": [
     0
    ],
    "collapsed": true
   },
   "outputs": [
    {
     "data": {
      "text/plain": [
       "array([[ 0,  1,  2,  3],\n",
       "       [ 4,  5,  6,  7],\n",
       "       [ 8,  9, 10, 11],\n",
       "       [12, 13, 14, 15],\n",
       "       [16, 17, 18, 19],\n",
       "       [20, 21, 22, 23],\n",
       "       [24, 25, 26, 27],\n",
       "       [28, 29, 30, 31]])"
      ]
     },
     "execution_count": 74,
     "metadata": {},
     "output_type": "execute_result"
    },
    {
     "data": {
      "text/plain": [
       "array([[16, 17, 18, 19],\n",
       "       [12, 13, 14, 15],\n",
       "       [ 0,  1,  2,  3],\n",
       "       [24, 25, 26, 27]])"
      ]
     },
     "execution_count": 74,
     "metadata": {},
     "output_type": "execute_result"
    },
    {
     "data": {
      "text/plain": [
       "array([[20, 21, 22, 23],\n",
       "       [24, 25, 26, 27],\n",
       "       [28, 29, 30, 31]])"
      ]
     },
     "execution_count": 74,
     "metadata": {},
     "output_type": "execute_result"
    },
    {
     "data": {
      "text/plain": [
       "array([ 4, 23, 29, 10])"
      ]
     },
     "execution_count": 74,
     "metadata": {},
     "output_type": "execute_result"
    },
    {
     "data": {
      "text/plain": [
       "array([[ 4,  7,  5,  6],\n",
       "       [20, 23, 21, 22],\n",
       "       [28, 31, 29, 30],\n",
       "       [ 8, 11,  9, 10]])"
      ]
     },
     "execution_count": 74,
     "metadata": {},
     "output_type": "execute_result"
    }
   ],
   "source": [
    "# 花式索引:利用整数数组进行索引,注意花式索引主要将数据复制到新数组中\n",
    "arr_rand=np.arange(32).reshape((8,4))\n",
    "arr_rand\n",
    "arr_rand[[4,3,0,6]]\n",
    "arr_rand[[-3,-2,-1]]\n",
    "arr_rand[[1,5,7,2],[0,3,1,2]]\n",
    "arr_rand[[1,5,7,2]][:,[0,3,1,2]]"
   ]
  },
  {
   "cell_type": "markdown",
   "metadata": {},
   "source": [
    "#### NumPy.linalg函数和属性\n",
    "|linalg常用函数|说明|\n",
    "|:--|:--|\n",
    "|det(ndarray)|计算矩阵列式|\n",
    "|eig(ndarray)|计算方阵的本征值和本征向量|\n",
    "|inv(ndarray)|计算方阵的逆|\n",
    "|pinv(ndarray)|计算方阵的Moore-Penrose伪逆|\n",
    "|qr(ndarray)|计算qr分解 |\n",
    "|svd(ndarray)|计算奇异值分解svd|\n",
    "|solve(ndarray)|解线性方程组Ax = b，其中A为方阵 |\n",
    "|lstsq(ndarray)|计算Ax=b的最小二乘解 |"
   ]
  },
  {
   "cell_type": "code",
   "execution_count": 87,
   "metadata": {
    "code_folding": [
     0
    ],
    "collapsed": true
   },
   "outputs": [
    {
     "data": {
      "text/plain": [
       "array([[ 13.19309849,  15.91381116,  -7.92849995,   0.03240283,\n",
       "          7.95812703],\n",
       "       [ 15.91381116,  20.63945645, -10.28471394,   0.6433315 ,\n",
       "         10.06083667],\n",
       "       [ -7.92849995, -10.28471394,   5.50083846,  -0.50497575,\n",
       "         -5.03177011],\n",
       "       [  0.03240283,   0.6433315 ,  -0.50497575,   0.78857667,\n",
       "          0.22696533],\n",
       "       [  7.95812703,  10.06083667,  -5.03177011,   0.22696533,\n",
       "          5.14118883]])"
      ]
     },
     "execution_count": 87,
     "metadata": {},
     "output_type": "execute_result"
    },
    {
     "data": {
      "text/plain": [
       "array([[ 1.00000000e+00, -9.67812736e-16, -1.58521508e-16,\n",
       "         6.87561379e-17,  6.23597804e-16],\n",
       "       [ 3.37437347e-15,  1.00000000e+00, -1.63031884e-15,\n",
       "        -7.48522444e-17, -2.61201735e-15],\n",
       "       [ 2.74752548e-16,  3.75390640e-16,  1.00000000e+00,\n",
       "        -1.64732515e-16, -2.40076413e-15],\n",
       "       [ 4.06258589e-16, -1.10719025e-15, -8.23857309e-16,\n",
       "         1.00000000e+00,  1.51721137e-17],\n",
       "       [ 8.36702060e-15,  7.71231580e-15,  1.15368089e-15,\n",
       "         1.47154595e-16,  1.00000000e+00]])"
      ]
     },
     "execution_count": 87,
     "metadata": {},
     "output_type": "execute_result"
    },
    {
     "data": {
      "text/plain": [
       "array([[-2.64753712,  0.28199891, -1.04345279, -2.11285683,  2.70371879],\n",
       "       [ 0.        , -2.73922778, -1.68841917,  0.17172664,  3.81727246],\n",
       "       [ 0.        ,  0.        , -2.99587966, -1.39926627, -2.98090485],\n",
       "       [ 0.        ,  0.        ,  0.        , -1.10278136,  0.05411648],\n",
       "       [ 0.        ,  0.        ,  0.        ,  0.        ,  0.06798565]])"
      ]
     },
     "execution_count": 87,
     "metadata": {},
     "output_type": "execute_result"
    }
   ],
   "source": [
    "# linalg常用函数\n",
    "from numpy.linalg import inv,qr\n",
    "arr_2=np.random.randn(5,5)\n",
    "mat=arr_2.T.dot(arr_2)\n",
    "inv(mat)\n",
    "np.dot(mat,inv(mat))\n",
    "q,r=qr(mat)\n",
    "r"
   ]
  },
  {
   "cell_type": "markdown",
   "metadata": {},
   "source": [
    "#### NumPy.random函数\n",
    "#####  简单随机数\n",
    "|函数名称|函数功能|参数说明|\n",
    "|:--|:--|:--|\n",
    "|seed([seed])|确定随机数生成器的种子(用来固定产生的随机数)|参数为整数或者矩阵|\n",
    "|rand(d0, d1, …, dn)|产生均匀分布的随机数|dn为第n维数据的维度|\n",
    "|randn(d0, d1, …, dn)|产生标准正态分布随机数|dn为第n维数据的维度|\n",
    "|randint(low, high,[size], dtype)|产生随机整数|low：最小值；high：最大值；size：随机数个数，可以为元素或元祖或者列表|\n",
    "|random_sample([size])|在[0,1）内产生随机数|size：随机数的shape，可以为元祖或者列表，[2,3]表示2维随机数，维度为（2,3）|\n",
    "|random([size])<br/>ranf([size])<br/>sample([size]))|同random_sample([size])|同random_sample([size])|\n",
    "|choice(a[, size, replace, p])|从a中随机选择指定数据|a：1维数组 size：返回数据形状|\n",
    "|bytes(length)|返回随机位|length：位的长度|\n"
   ]
  },
  {
   "cell_type": "code",
   "execution_count": 97,
   "metadata": {
    "code_folding": [
     0
    ],
    "collapsed": true
   },
   "outputs": [
    {
     "data": {
      "text/plain": [
       "array([0.49300199, 0.28382811, 0.39497916, 0.56358357, 0.82845075])"
      ]
     },
     "execution_count": 97,
     "metadata": {},
     "output_type": "execute_result"
    },
    {
     "data": {
      "text/plain": [
       "array([[0.02877944, 0.09308963, 0.07103157],\n",
       "       [0.82166753, 0.27959221, 0.68625777]])"
      ]
     },
     "execution_count": 97,
     "metadata": {},
     "output_type": "execute_result"
    },
    {
     "data": {
      "text/plain": [
       "array([[[-0.12347604,  1.64825511,  1.83939757],\n",
       "        [ 0.10642223,  0.34293218,  0.97889929],\n",
       "        [-0.99124908, -1.22099218,  0.76242292]],\n",
       "\n",
       "       [[-1.37767896,  0.65072998,  0.90617696],\n",
       "        [-0.3083745 ,  0.21535154,  1.55380495],\n",
       "        [ 0.14490808,  0.52077414,  0.37030239]]])"
      ]
     },
     "execution_count": 97,
     "metadata": {},
     "output_type": "execute_result"
    },
    {
     "data": {
      "text/plain": [
       "'------------------------------------------------------------------------------------'"
      ]
     },
     "execution_count": 97,
     "metadata": {},
     "output_type": "execute_result"
    },
    {
     "data": {
      "text/plain": [
       "array([6, 5, 3])"
      ]
     },
     "execution_count": 97,
     "metadata": {},
     "output_type": "execute_result"
    },
    {
     "data": {
      "text/plain": [
       "array([[7, 3, 7],\n",
       "       [3, 5, 7]])"
      ]
     },
     "execution_count": 97,
     "metadata": {},
     "output_type": "execute_result"
    },
    {
     "data": {
      "text/plain": [
       "'------------------------------------------------------------------------------------'"
      ]
     },
     "execution_count": 97,
     "metadata": {},
     "output_type": "execute_result"
    },
    {
     "data": {
      "text/plain": [
       "array([0.59134056, 0.39870651])"
      ]
     },
     "execution_count": 97,
     "metadata": {},
     "output_type": "execute_result"
    },
    {
     "data": {
      "text/plain": [
       "array([[[0.34391511, 0.56989914],\n",
       "        [0.11253822, 0.49433347],\n",
       "        [0.54224279, 0.45493818]],\n",
       "\n",
       "       [[0.02335448, 0.62995109],\n",
       "        [0.92857198, 0.66588853],\n",
       "        [0.96803092, 0.54617218]]])"
      ]
     },
     "execution_count": 97,
     "metadata": {},
     "output_type": "execute_result"
    },
    {
     "data": {
      "text/plain": [
       "'------------------------------------------------------------------------------------'"
      ]
     },
     "execution_count": 97,
     "metadata": {},
     "output_type": "execute_result"
    },
    {
     "data": {
      "text/plain": [
       "0"
      ]
     },
     "execution_count": 97,
     "metadata": {},
     "output_type": "execute_result"
    }
   ],
   "source": [
    "# 产生简单的随机数\n",
    "np.random.rand(5) #产生均匀分布随机数\n",
    "np.random.rand(2,3)\n",
    "np.random.randn(2,3,3) #产生标准正态分布随机数\n",
    "'------------------------------------------------------------------------------------'\n",
    "np.random.randint(0,10,3) #产生随机整数\n",
    "np.random.randint(0,10,[2,3]) # 等同于np.random.randint(0,10,(2,3))\n",
    "'------------------------------------------------------------------------------------'\n",
    "np.random.random(2) #在[0,1内产生随机浮点数  同random.sample([size])\n",
    "np.random.random([2,3,2]) # np.random.random((2,3,2))\n",
    "'------------------------------------------------------------------------------------'\n",
    "np.random.choice(10)"
   ]
  },
  {
   "cell_type": "markdown",
   "metadata": {},
   "source": [
    "##### 产生各种分布的随机数函数\n",
    "|函数名称|函数功能|\n",
    "|:--|:--|\n",
    "|beta(a, b[, size])|贝塔分布样本，在 [0, 1]内。|\n",
    "|binomial(n, p[, size])|二项分布的样本。|\n",
    "|chisquare(df[, size])|卡方分布样本。|\n",
    "|dirichlet(alpha[, size])|狄利克雷分布样本。|\n",
    "|exponential([scale, size])|指数分布|\n",
    "|f(dfnum, dfden[, size])|F分布样本。|\n",
    "|gamma(shape[, scale, size])|伽马分布|\n",
    "|geometric(p[, size])|几何分布|\n",
    "|gumbel([loc, scale, size])|耿贝尔分布。|\n",
    "|hypergeometric(ngood, nbad, nsample[, size])|超几何分布样本。|\n",
    "|laplace([loc, scale, size])|拉普拉斯或双指数分布样本|\n",
    "|logistic([loc, scale, size])|Logistic分布样本|\n",
    "|lognormal([mean, sigma, size])|对数正态分布|\n",
    "|logseries(p[, size])|对数级数分布。|\n",
    "|multinomial(n, pvals[, size])|多项分布|\n",
    "|multivariate_normal(mean, cov[, size])|多元正态分布。|\n",
    "|negative_binomial(n, p[, size])|负二项分布|\n",
    "|noncentral_chisquare(df, nonc[, size])|非中心卡方分布|\n",
    "|noncentral_f(dfnum, dfden, nonc[, size])|非中心F分布|\n",
    "|normal([loc, scale, size])|正态(高斯)分布|\n",
    "|pareto(a[, size])|帕累托（Lomax）分布|\n",
    "|poisson([lam, size])|泊松分布|\n",
    "|power(a[, size])|Draws samples in [0, 1] from a power distribution with positive exponent a - 1.|\n",
    "|rayleigh([scale, size])|Rayleigh 分布|\n",
    "|standard_cauchy([size])|标准柯西分布|\n",
    "|standard_exponential([size])|标准的指数分布|\n",
    "|standard_gamma(shape[, size])|标准伽马分布|\n",
    "|standard_normal([size])|标准正态分布 (mean=0, stdev=1).|\n",
    "|standard_t(df[, size])|Standard Student’s t distribution with df degrees of freedom.|\n",
    "|triangular(left, mode, right[, size])|三角形分布|\n",
    "|uniform([low, high, size])|均匀分布|\n",
    "|vonmises(mu, kappa[, size])|von Mises分布|\n",
    "|wald(mean, scale[, size])|瓦尔德（逆高斯）分布|\n",
    "|weibull(a[, size])|Weibull 分布|\n",
    "|zipf(a[, size])|齐普夫分布|\n"
   ]
  },
  {
   "cell_type": "markdown",
   "metadata": {},
   "source": [
    "##### 随机排列\n",
    "|函数名称|函数功能|参数说明|\n",
    "|:--|:--|:--|\n",
    "|permutation(x)|打乱并返回该对象（多维矩阵按照第一维打乱）|整数或者矩阵|\n",
    "|shuffle(x)|打乱对象x（多维矩阵按照第一维打乱）|矩阵或者列表|"
   ]
  },
  {
   "cell_type": "code",
   "execution_count": 129,
   "metadata": {
    "code_folding": [
     0
    ],
    "collapsed": true
   },
   "outputs": [
    {
     "data": {
      "text/plain": [
       "array([[6, 7, 5, 7],\n",
       "       [3, 5, 3, 8],\n",
       "       [8, 8, 3, 8]])"
      ]
     },
     "execution_count": 129,
     "metadata": {},
     "output_type": "execute_result"
    },
    {
     "data": {
      "text/plain": [
       "array([[8, 8, 3, 8],\n",
       "       [3, 5, 3, 8],\n",
       "       [6, 7, 5, 7]])"
      ]
     },
     "execution_count": 129,
     "metadata": {},
     "output_type": "execute_result"
    }
   ],
   "source": [
    "# 随机排列\n",
    "rand_arr=np.random.randint(1, 10, (3, 4))\n",
    "rand_arr\n",
    "rand_data=rand_arr.copy()\n",
    "np.random.shuffle(rand_data)\n",
    "rand_data"
   ]
  },
  {
   "cell_type": "markdown",
   "metadata": {},
   "source": [
    "##### 随机漫步"
   ]
  },
  {
   "cell_type": "code",
   "execution_count": 12,
   "metadata": {
    "code_folding": [
     0
    ],
    "collapsed": true
   },
   "outputs": [
    {
     "data": {
      "text/plain": [
       "(1000,)"
      ]
     },
     "execution_count": 12,
     "metadata": {},
     "output_type": "execute_result"
    }
   ],
   "source": [
    "# 简单的随机漫步的例子\n",
    "nsteps=1000\n",
    "draws=np.random.randint(0,2,size=nsteps)\n",
    "steps=np.where(draws>0,1,-1)\n",
    "walk=steps.cumsum()\n",
    "walk.shape\n",
    "# walk\n",
    "# walk.min()\n",
    "# walk.max()"
   ]
  },
  {
   "cell_type": "code",
   "execution_count": 11,
   "metadata": {
    "code_folding": [
     0
    ],
    "collapsed": true
   },
   "outputs": [
    {
     "data": {
      "text/plain": [
       "(5000, 1000)"
      ]
     },
     "execution_count": 11,
     "metadata": {},
     "output_type": "execute_result"
    },
    {
     "data": {
      "text/plain": [
       "(5000,)"
      ]
     },
     "execution_count": 11,
     "metadata": {},
     "output_type": "execute_result"
    },
    {
     "data": {
      "text/plain": [
       "3370"
      ]
     },
     "execution_count": 11,
     "metadata": {},
     "output_type": "execute_result"
    },
    {
     "data": {
      "text/plain": [
       "(3370,)"
      ]
     },
     "execution_count": 11,
     "metadata": {},
     "output_type": "execute_result"
    },
    {
     "data": {
      "text/plain": [
       "508.3406528189911"
      ]
     },
     "execution_count": 11,
     "metadata": {},
     "output_type": "execute_result"
    }
   ],
   "source": [
    "# 一次模拟多个随机漫步\n",
    "msteps=5000\n",
    "nsteps=1000\n",
    "draws=np.random.randint(0,2,size=(msteps,nsteps))\n",
    "steps=np.where(draws>0,1,-1)\n",
    "walk=steps.cumsum(1)\n",
    "walk.shape\n",
    "'------------------------------------------------------------------------------'\n",
    "hits30=(np.abs(walk)>=30).any(1)\n",
    "hits30.shape\n",
    "hits30.sum()\n",
    "'------------------------------------------------------------------------------'\n",
    "crossing_times=(np.abs(walk[hits30])>=30).argmax(1)\n",
    "crossing_times.shape\n",
    "crossing_times.mean()"
   ]
  }
 ],
 "metadata": {
  "kernelspec": {
   "display_name": "Python 3",
   "language": "python",
   "name": "python3"
  },
  "language_info": {
   "codemirror_mode": {
    "name": "ipython",
    "version": 3
   },
   "file_extension": ".py",
   "mimetype": "text/x-python",
   "name": "python",
   "nbconvert_exporter": "python",
   "pygments_lexer": "ipython3",
   "version": "3.6.4"
  },
  "toc": {
   "base_numbering": 1,
   "nav_menu": {},
   "number_sections": true,
   "sideBar": true,
   "skip_h1_title": false,
   "title_cell": "Table of Contents",
   "title_sidebar": "Contents",
   "toc_cell": false,
   "toc_position": {
    "height": "calc(100% - 180px)",
    "left": "10px",
    "top": "150px",
    "width": "235px"
   },
   "toc_section_display": true,
   "toc_window_display": true
  }
 },
 "nbformat": 4,
 "nbformat_minor": 2
}
